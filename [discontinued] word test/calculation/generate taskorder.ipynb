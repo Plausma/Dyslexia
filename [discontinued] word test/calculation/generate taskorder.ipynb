{
 "cells": [
  {
   "cell_type": "code",
   "execution_count": 21,
   "metadata": {},
   "outputs": [
    {
     "name": "stdout",
     "output_type": "stream",
     "text": [
      "      id  side  falseword\n",
      "106  017     1          3\n",
      "28   004     1          3\n",
      "236  039     0          4\n",
      "78   013     0          2\n",
      "213  035     1          2\n",
      "..   ...   ...        ...\n",
      "87   014     1          2\n",
      "19   003     0          3\n",
      "139  023     0          3\n",
      "155  025     1          4\n",
      "204  034     0          2\n",
      "\n",
      "[240 rows x 3 columns]\n"
     ]
    }
   ],
   "source": [
    "import pandas as pd\n",
    "import itertools \n",
    "\n",
    "   # language eng = 1\n",
    "# side of the correct word, left =0, right = 1\n",
    "side = [0,1]\n",
    "# for false word, by id is greek = 2, scramble = 3, pseudo = 4\n",
    "falseword = [2,3,4]\n",
    "# for corresponding image id, use 1-40 for now\n",
    "id = [\"%.3d\" % i for i in range(40)]\n",
    "\n",
    "\n",
    "taskorder = pd.DataFrame([[n, m, p] for n in id for m in side for p in falseword], columns=[\"id\", \"side\", \"falseword\"])\n",
    "taskorder = taskorder.sample(frac=1, random_state=9000)\n",
    "print(taskorder)\n",
    "taskorder.to_csv('../taskorder.csv',index=False)\n"
   ]
  },
  {
   "cell_type": "code",
   "execution_count": null,
   "metadata": {},
   "outputs": [],
   "source": [
    "df = pd.DataFrame(itertools.product(id, side, false), columns=[\"id\", \"side\", \"false\"])\n",
    "\n"
   ]
  }
 ],
 "metadata": {
  "kernelspec": {
   "display_name": "Python 3",
   "language": "python",
   "name": "python3"
  },
  "language_info": {
   "codemirror_mode": {
    "name": "ipython",
    "version": 3
   },
   "file_extension": ".py",
   "mimetype": "text/x-python",
   "name": "python",
   "nbconvert_exporter": "python",
   "pygments_lexer": "ipython3",
   "version": "3.10.11"
  }
 },
 "nbformat": 4,
 "nbformat_minor": 2
}
