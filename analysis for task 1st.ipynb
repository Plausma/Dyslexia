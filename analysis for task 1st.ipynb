{
 "cells": [
  {
   "cell_type": "code",
   "execution_count": 183,
   "metadata": {},
   "outputs": [],
   "source": [
    "import pandas as pd\n",
    "import numpy as np\n",
    "import matplotlib.pyplot as plt\n",
    "import scipy.stats as stats\n",
    "import seaborn as sns"
   ]
  },
  {
   "cell_type": "code",
   "execution_count": 184,
   "metadata": {},
   "outputs": [],
   "source": [
    "# import reference file\n",
    "enbasedf = pd.read_excel(\"./letterlang test/ref/letterorderen_full.xlsx\")\n",
    "thbasedf = pd.read_excel(\"./letterlang test/ref/letterorderth_full.xlsx\")"
   ]
  },
  {
   "cell_type": "code",
   "execution_count": 185,
   "metadata": {},
   "outputs": [],
   "source": [
    "# read and claen the data file from task I (letter language recognition test)\n",
    "# let the user choose the file\n",
    "\n",
    "from tkinter import Tk     \n",
    "from tkinter.filedialog import askopenfilename\n",
    "\n",
    "Tk().withdraw() # we don't want a full GUI, so keep the root window from appearing\n",
    "\n",
    "username = input(\"user ID (this will be named in front of every plotted picture):\")\n",
    "datafile = askopenfilename(title=\"Choose the data file from the experiment, TH mode\")\n",
    "rawth = pd.read_csv(datafile)\n",
    "datafile = askopenfilename(title=\"Choose the data file from the experiment, EN mode\")\n",
    "rawen = pd.read_csv(datafile)"
   ]
  },
  {
   "cell_type": "code",
   "execution_count": 186,
   "metadata": {},
   "outputs": [],
   "source": [
    "# clean data, cut and add the data column into base df\n",
    "def III_cut_and_clean(basedf, prepdf):\n",
    "    cutdf = prepdf.iloc[1:97][[\"lang\",\"langpair\",\"sequence\",\"pairid\",\"key_resp.keys\",\"key_resp.rt\"]].reset_index()\n",
    "    cutdf = cutdf.rename({\"key_resp.keys\":\"key\",\"key_resp.rt\":\"key_RT\"}, axis=\"columns\")\n",
    "    newdf = basedf\n",
    "    newdf[\"key\"] = cutdf[\"key\"]\n",
    "    newdf[\"key_RT\"] = cutdf[\"key_RT\"]\n",
    "    return newdf\n",
    "\n",
    "orderth = III_cut_and_clean(thbasedf, rawth)\n",
    "orderen = III_cut_and_clean(enbasedf, rawen)"
   ]
  },
  {
   "cell_type": "code",
   "execution_count": 187,
   "metadata": {},
   "outputs": [],
   "source": [
    "orderen = orderen.drop(51)"
   ]
  },
  {
   "cell_type": "code",
   "execution_count": 188,
   "metadata": {},
   "outputs": [],
   "source": [
    "# assign score for speicific condition\n",
    "\n",
    "def assign_score(df):\n",
    "    # Create a boolean mask for 'sequence' and 'key' conditions\n",
    "    mask_seq_1_z = (df['sequence'] == 1) & (df['key'] == 'z')\n",
    "    mask_seq_1_x = (df['sequence'] == 1) & (df['key'] == 'x')\n",
    "    mask_seq_2_z = (df['sequence'] == 2) & (df['key'] == 'z')\n",
    "    mask_seq_2_x = (df['sequence'] == 2) & (df['key'] == 'x')\n",
    "\n",
    "    # Assign scores based on conditions\n",
    "    df['score'] = 0  # Default score\n",
    "    df.loc[mask_seq_1_z, 'score'] = 1\n",
    "    df.loc[mask_seq_2_x, 'score'] = 1"
   ]
  },
  {
   "cell_type": "code",
   "execution_count": 189,
   "metadata": {},
   "outputs": [],
   "source": [
    "assign_score(orderth)\n",
    "assign_score(orderen)"
   ]
  },
  {
   "cell_type": "code",
   "execution_count": 190,
   "metadata": {},
   "outputs": [],
   "source": [
    "\n",
    "\n",
    "def I_interpret_lang(df):\n",
    "    # Define conditions based on 'lang' and 'sequence'\n",
    "    condition_1 = (df['sequence'] == 1) & (df['lang'] == 1)\n",
    "    condition_2 = (df['sequence'] == 1) & (df['lang'] == 2)\n",
    "    condition_3 = (df['sequence'] == 2) & (df['lang'] == 1)\n",
    "    condition_4 = (df['sequence'] == 2) & (df['lang'] == 2)\n",
    "\n",
    "    # Use numpy.select to vectorize the mapping logic\n",
    "    langshow = np.select(\n",
    "        [condition_1 & (df['langpair'] == 1), condition_1 & (df['langpair'] == 2), condition_1 & (df['langpair'] == 3),\n",
    "         condition_2 & (df['langpair'] == 1), condition_2 & (df['langpair'] == 2), condition_2 & (df['langpair'] == 3),\n",
    "         condition_3, condition_4],\n",
    "        ['english', 'khmer', 'greek', 'thai', 'khmer', 'greek', 'thai', 'english'],\n",
    "        default='Unknown'\n",
    "    )\n",
    "\n",
    "    # Assign the result to the 'langshow' column\n",
    "    df['langshow'] = langshow\n",
    "\n",
    "\n"
   ]
  },
  {
   "cell_type": "code",
   "execution_count": 191,
   "metadata": {},
   "outputs": [],
   "source": [
    "I_interpret_lang(orderen)\n",
    "I_interpret_lang(orderth)"
   ]
  },
  {
   "cell_type": "code",
   "execution_count": 192,
   "metadata": {},
   "outputs": [],
   "source": [
    "orderall = pd.concat([orderen, orderth], ignore_index=True)"
   ]
  },
  {
   "cell_type": "code",
   "execution_count": 193,
   "metadata": {},
   "outputs": [
    {
     "name": "stdout",
     "output_type": "stream",
     "text": [
      "score of Thai letter discrimination: 96 out of 96 !\n",
      "score of English letter discrimination: 95 out of 95 !\n"
     ]
    }
   ],
   "source": [
    "print(\"score of Thai letter discrimination:\",orderth['score'].sum(),\"out of\",orderth.shape[0],\"!\")\n",
    "print(\"score of English letter discrimination:\",orderen['score'].sum(),\"out of\",orderen.shape[0],\"!\")"
   ]
  },
  {
   "cell_type": "code",
   "execution_count": 194,
   "metadata": {},
   "outputs": [],
   "source": [
    "def I_plot_histogram_and_boxplot(df, column, title, savedir):\n",
    "    # Calculate the IQR (Interquartile Range)\n",
    "    Q1 = np.percentile(df[column], 25)\n",
    "    Q3 = np.percentile(df[column], 75)\n",
    "    IQR = Q3 - Q1\n",
    "    \n",
    "    # Calculate the bin width using Freedman-Diaconis rule\n",
    "    bin_width = 2 * IQR / np.cbrt(len(df[column]))\n",
    "    \n",
    "    # Calculate the number of bins\n",
    "    bin_count = int(np.ceil((df[column].max() - df[column].min()) / bin_width))\n",
    "    \n",
    "    # Create a figure with two subplots: one for histogram and one for boxplot\n",
    "    fig, ax = plt.subplots(nrows=2, ncols=1, figsize=(10, 6), gridspec_kw={'height_ratios': [1, 3]})\n",
    "    \n",
    "    # Plot boxplot above histogram\n",
    "    sns.boxplot(data=df, x=column, ax=ax[0], color='lightgray')\n",
    "    ax[0].set_title(title)\n",
    "    ax[0].set_xlabel('')\n",
    "\n",
    "    # Plot histogram below boxplot with the Freedman-Diaconis rule bin count\n",
    "    ax[1].hist(df[column], bins=bin_count, edgecolor='black')\n",
    "    ax[1].set_title('')\n",
    "    ax[1].set_xlabel('reaction time (s)')\n",
    "    ax[1].set_ylabel('Frequency')\n",
    "    ax[1].grid(False)\n",
    "\n",
    "    # Show the plot\n",
    "    plt.tight_layout()\n",
    "    plt.savefig(savedir)\n",
    "    plt.close()"
   ]
  },
  {
   "cell_type": "code",
   "execution_count": 195,
   "metadata": {},
   "outputs": [],
   "source": [
    "I_plot_histogram_and_boxplot(orderth, \"key_RT\", \"boxplot and histogram of reaction time: Thai letter discrimination\", f\"./figure/{username} I hist TH.png\")\n",
    "I_plot_histogram_and_boxplot(orderen, \"key_RT\", \"boxplot and histogram of reaction time: English letter discrimination\", f\"./figure/{username} I hist EN.png\")\n",
    "I_plot_histogram_and_boxplot(orderall, \"key_RT\", \"boxplot and histogram of reaction time: Thai and English letter discrimination\", f\"./figure/{username} I hist all.png\")"
   ]
  },
  {
   "cell_type": "markdown",
   "metadata": {
    "vscode": {
     "languageId": "bat"
    }
   },
   "source": [
    "# reaction time by letter language\n",
    "⚠⚠⚠⚠⚠⚠caution: each letter has different data point (main language = 24 ,other = 8)⚠⚠⚠⚠⚠⚠"
   ]
  },
  {
   "cell_type": "code",
   "execution_count": 196,
   "metadata": {},
   "outputs": [],
   "source": [
    "def I_plot_mean_reaction_time(df, savefig_dir=None, plot_title='Mean Reaction Time by Language'):\n",
    "    # Define the custom order for 'langshow'\n",
    "    custom_order = [\"thai\", \"english\", \"khmer\", \"greek\"]\n",
    "    df['langshow'] = pd.Categorical(df['langshow'], categories=custom_order, ordered=True)\n",
    "\n",
    "    # Group by 'langshow' and calculate the mean and standard error of 'key_RT'\n",
    "    grouped = df.groupby('langshow', observed=True)['key_RT']\n",
    "    mean_rt = grouped.mean()\n",
    "    sem_rt = grouped.sem()  # Standard Error of the Mean\n",
    "\n",
    "    # Create a DataFrame for plotting\n",
    "    plot_data = mean_rt.reset_index()\n",
    "    plot_data['sem'] = sem_rt.values\n",
    "\n",
    "    # Reorder the DataFrame based on the custom order\n",
    "    ordered_data = plot_data.set_index('langshow').loc[custom_order].reset_index()\n",
    "    ordered_data = ordered_data.dropna(subset=['key_RT', 'sem'])\n",
    "\n",
    "    # Plot the results\n",
    "    plt.figure(figsize=(8, 6))\n",
    "    ax = sns.barplot(x='langshow', y='key_RT', data=ordered_data, hue='langshow', \n",
    "                     palette='viridis', legend=False, errorbar=None, order=custom_order)\n",
    "\n",
    "    # Add error bars\n",
    "    ax.errorbar(x=range(len(ordered_data)), y=ordered_data['key_RT'], \n",
    "                yerr=ordered_data['sem'], fmt='none', capsize=5, color='black')\n",
    "\n",
    "    # Add mean values on top of the error bars\n",
    "    for i, (mean, sem) in enumerate(zip(ordered_data['key_RT'], ordered_data['sem'])):\n",
    "        ax.annotate(f'{mean:.2f}', \n",
    "                    (i, mean + sem * 1.5),  # Position above the error bar\n",
    "                    ha='center', va='bottom', color='black', fontweight='light', size =10)\n",
    "\n",
    "    # Add title and labels\n",
    "    ax.set_title(plot_title)\n",
    "    ax.set_ylabel('Mean Reaction Time (s)')\n",
    "    ax.set_xlabel('Language')\n",
    "    \n",
    "    plt.ylim(0,1)\n",
    "\n",
    "    # Adjust layout\n",
    "    plt.tight_layout()\n",
    "    \n",
    "    # Save the figure if a directory is provided\n",
    "    if savefig_dir:\n",
    "        plt.savefig(savefig_dir, bbox_inches='tight')\n",
    "        print(f\"Plot saved to {savefig_dir}\")\n",
    "    plt.close()\n",
    "    "
   ]
  },
  {
   "cell_type": "code",
   "execution_count": 197,
   "metadata": {},
   "outputs": [
    {
     "name": "stdout",
     "output_type": "stream",
     "text": [
      "Plot saved to ./figure/yupa I RT by lang all.png\n",
      "Plot saved to ./figure/yupa I RT by lang EN.png\n",
      "Plot saved to ./figure/yupa I RT by lang TH.png\n"
     ]
    }
   ],
   "source": [
    "I_plot_mean_reaction_time(orderall,f\"./figure/{username} I RT by lang all.png\", \"Mean reaction time by language: overall\")\n",
    "I_plot_mean_reaction_time(orderen,f\"./figure/{username} I RT by lang EN.png\", \"Mean reaction time by language: English\")\n",
    "I_plot_mean_reaction_time(orderth,f\"./figure/{username} I RT by lang TH.png\", \"Mean reaction time by language: Thai\")"
   ]
  },
  {
   "cell_type": "code",
   "execution_count": 198,
   "metadata": {},
   "outputs": [],
   "source": [
    "def I_plot_grouped_reaction_time(data1, data2, lang_order=None, \n",
    "                              group_names=('Group 1', 'Group 2'),\n",
    "                              plot_title=None, save_path=None):\n",
    "    \"\"\"\n",
    "    Plot grouped bar chart of reaction time means with error bars for two datasets.\n",
    "    \n",
    "    Args:\n",
    "        data1, data2: DataFrames containing 'key_RT' and 'langshow' columns\n",
    "        lang_order: Custom order for x-axis labels (default: ['thai', 'english', 'khmer', 'greek'])\n",
    "        group_names: Tuple of legend names for the two groups\n",
    "        plot_title: Optional title for the plot\n",
    "        save_path: Optional path to save the figure\n",
    "    \"\"\"\n",
    "    # Set default language order\n",
    "    lang_order = lang_order or ['thai', 'english', 'khmer', 'greek']\n",
    "    \n",
    "    # Aggregate data using pandas\n",
    "    def process_df(df):\n",
    "        return df.groupby('langshow', observed=True).agg(\n",
    "            mean_RT=('key_RT', np.nanmean),\n",
    "            sem_RT=('key_RT', lambda x: np.nanstd(x)/np.sqrt(len(x)))\n",
    "        ).reindex(lang_order)\n",
    "\n",
    "    agg1, agg2 = process_df(data1), process_df(data2)\n",
    "    \n",
    "    # Plot setup\n",
    "    fig, ax = plt.subplots(figsize=(10, 6))\n",
    "    x = np.arange(len(lang_order))  # label locations\n",
    "    width = 0.35  # bar width\n",
    "    \n",
    "    # Create grouped bars\n",
    "    bars1 = ax.bar(x - width/2, agg1['mean_RT'], width,\n",
    "                   yerr=agg1['sem_RT'], label=group_names[0], capsize=5)\n",
    "    bars2 = ax.bar(x + width/2, agg2['mean_RT'], width,\n",
    "                   yerr=agg2['sem_RT'], label=group_names[1], capsize=5)\n",
    "    \n",
    "    # Add labels and formatting\n",
    "    ax.set_ylabel('Reaction Time (s)', fontsize=12)\n",
    "    ax.set_xticks(x)\n",
    "    ax.set_xticklabels(lang_order, fontsize=11)\n",
    "    ax.legend(frameon=False, fontsize=10)\n",
    "    \n",
    "    # Add value labels using list comprehension\n",
    "    for rect, values in zip([bars1, bars2], [agg1, agg2]):\n",
    "        for idx, bar in enumerate(rect):\n",
    "            height = bar.get_height()\n",
    "            ax.text(bar.get_x() + bar.get_width()/2., \n",
    "                    height + values['sem_RT'].iloc[idx] + 0.01,\n",
    "                    f'{height:.2f}', \n",
    "                    ha='center', va='bottom', fontsize=9)\n",
    "    \n",
    "    plt.ylim(0,1)\n",
    "    if plot_title:\n",
    "        ax.set_title(plot_title, pad=20, fontsize=14)\n",
    "    \n",
    "    if save_path:\n",
    "\n",
    "        plt.savefig(save_path, bbox_inches='tight', dpi=300, \n",
    "                   facecolor='white')\n",
    "    \n",
    "    plt.show()"
   ]
  },
  {
   "cell_type": "code",
   "execution_count": 199,
   "metadata": {},
   "outputs": [
    {
     "name": "stderr",
     "output_type": "stream",
     "text": [
      "C:\\Users\\UserPC\\AppData\\Local\\Temp\\ipykernel_10888\\3958509448.py:19: FutureWarning: The provided callable <function nanmean at 0x0000023273A24310> is currently using SeriesGroupBy.mean. In a future version of pandas, the provided callable will be used directly. To keep current behavior pass the string \"mean\" instead.\n",
      "  return df.groupby('langshow', observed=True).agg(\n",
      "C:\\Users\\UserPC\\AppData\\Local\\Temp\\ipykernel_10888\\3958509448.py:19: FutureWarning: The provided callable <function nanmean at 0x0000023273A24310> is currently using SeriesGroupBy.mean. In a future version of pandas, the provided callable will be used directly. To keep current behavior pass the string \"mean\" instead.\n",
      "  return df.groupby('langshow', observed=True).agg(\n"
     ]
    },
    {
     "data": {
      "image/png": "[encoded data removed]",
      "text/plain": [
       "<Figure size 1000x600 with 1 Axes>"
      ]
     },
     "metadata": {},
     "output_type": "display_data"
    }
   ],
   "source": [
    "I_plot_grouped_reaction_time(\n",
    "    orderth, orderen,\n",
    "    lang_order=['thai', 'english', 'khmer', 'greek'],\n",
    "    group_names=('Thai', 'English'),\n",
    "    plot_title='Reaction Time Comparison between language',\n",
    "    save_path=f'./figure/{username} I RT by lang grouped.png'\n",
    ")"
   ]
  }
 ],
 "metadata": {
  "kernelspec": {
   "display_name": "Python 3",
   "language": "python",
   "name": "python3"
  },
  "language_info": {
   "codemirror_mode": {
    "name": "ipython",
    "version": 3
   },
   "file_extension": ".py",
   "mimetype": "text/x-python",
   "name": "python",
   "nbconvert_exporter": "python",
   "pygments_lexer": "ipython3",
   "version": "3.10.11"
  }
 },
 "nbformat": 4,
 "nbformat_minor": 2
}
