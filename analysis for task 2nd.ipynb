{
 "cells": [
  {
   "cell_type": "code",
   "execution_count": 16,
   "metadata": {},
   "outputs": [],
   "source": [
    "import pandas as pd\n",
    "import numpy as np\n",
    "import matplotlib.pyplot as plt\n",
    "import seaborn as sns\n",
    "import os\n",
    "import scipy.stats as stats"
   ]
  },
  {
   "cell_type": "code",
   "execution_count": 23,
   "metadata": {},
   "outputs": [],
   "source": [
    "# File paths\n",
    "english_mainflow_path = \"C:/Users/POOM/Desktop/for export/for export/isitword test - data/yupaen_Mainflow.csv\"\n",
    "thai_mainflow_path = \"C:/Users/POOM/Desktop/for export/for export/isitword test - data/yupath_Mainflow.csv\"\n",
    "english_words_path = \"C:/Users/POOM/Desktop/for export/for export/isitword test - data/wordorderen_full.xlsx\"\n",
    "thai_words_path = \"C:/Users/POOM/Desktop/for export/for export/isitword test - data/wordorderth_full.xlsx\"\n",
    "output_folder = \"C:/Users/POOM/Desktop/for export/\"\n",
    "# Load data\n",
    "english_mainflow = pd.read_csv(english_mainflow_path)\n",
    "thai_mainflow = pd.read_csv(thai_mainflow_path)\n",
    "english_words = pd.read_excel(english_words_path)\n",
    "thai_words = pd.read_excel(thai_words_path)"
   ]
  },
  {
   "cell_type": "markdown",
   "metadata": {},
   "source": [
    "# SCORE CALCULATION"
   ]
  },
  {
   "cell_type": "code",
   "execution_count": 24,
   "metadata": {},
   "outputs": [],
   "source": [
    "# Score calculation function\n",
    "def calculate_score(df):\n",
    "    conditions = [\n",
    "        (df['key_resp.keys'] == 'z') & (df['stimuli'] == 1),\n",
    "        (df['key_resp.keys'] == 'x') & (df['stimuli'].isin([2, 3]))\n",
    "    ]\n",
    "    values = [1, 1]\n",
    "    df['score'] = np.select(conditions, values, default=0)\n",
    "    return df\n",
    "\n",
    "def cutdf(prepdf):\n",
    "    cutdf = prepdf.iloc[1:121][[\"lang\",\"imageid\",\"stimuli\",\"key_resp.keys\",\"key_resp.rt\"]].reset_index(drop=True)\n",
    "    return cutdf\n",
    "\n",
    "# Apply score calculation\n",
    "english_mainflow = calculate_score(cutdf(english_mainflow))\n",
    "thai_mainflow = calculate_score(cutdf(thai_mainflow))"
   ]
  },
  {
   "cell_type": "markdown",
   "metadata": {},
   "source": [
    "# WORD LENGTH"
   ]
  },
  {
   "cell_type": "code",
   "execution_count": 25,
   "metadata": {},
   "outputs": [],
   "source": [
    "# Word length calculation function\n",
    "def get_word_length(df, words_df, lang):\n",
    "    word_length_dict = words_df.set_index('imageid')['word shown'].astype(str).apply(len).to_dict()\n",
    "    df['word_length'] = df['imageid'].map(word_length_dict)\n",
    "    return df\n",
    "\n",
    "english_mainflow = get_word_length(english_mainflow, english_words, 'English')\n",
    "thai_mainflow = get_word_length(thai_mainflow, thai_words, 'Thai')"
   ]
  },
  {
   "cell_type": "markdown",
   "metadata": {},
   "source": [
    "# CHANGE STIMULI"
   ]
  },
  {
   "cell_type": "code",
   "execution_count": 26,
   "metadata": {},
   "outputs": [],
   "source": [
    "def convert_stimuli(df):\n",
    "    stimuli_map = {1: 'Correct', 2: 'Scramble', 3: 'Typo'}\n",
    "    df['stimuli'] = df['stimuli'].map(stimuli_map)\n",
    "    return df\n",
    "\n",
    "# Apply Stimuli Conversion\n",
    "english_mainflow = convert_stimuli(english_mainflow)\n",
    "thai_mainflow = convert_stimuli(thai_mainflow)"
   ]
  },
  {
   "cell_type": "code",
   "execution_count": 22,
   "metadata": {},
   "outputs": [],
   "source": [
    "# Combine data for analysis\n",
    "english_mainflow['Language'] = 'English'\n",
    "thai_mainflow['Language'] = 'Thai'\n",
    "data = pd.concat([english_mainflow, thai_mainflow])\n",
    "\n",
    "# Create output directory if not exists\n",
    "if not os.path.exists(output_folder):\n",
    "    os.makedirs(output_folder)\n",
    "\n",
    "# Function to plot graphs\n",
    "def save_plot(fig, title):\n",
    "    file_path = os.path.join(output_folder, title + \".png\")\n",
    "    fig.savefig(file_path, dpi=300, bbox_inches='tight')\n",
    "    plt.close(fig)"
   ]
  },
  {
   "cell_type": "markdown",
   "metadata": {},
   "source": [
    "# Remove Pear Hose Drill Couch"
   ]
  },
  {
   "cell_type": "code",
   "execution_count": 15,
   "metadata": {},
   "outputs": [],
   "source": [
    "# List of words to exclude\n",
    "exclude_words = [\"pear\", \"hose\", \"drill\", \"couch\"]\n",
    "\n",
    "# Filter English mainflow dataset\n",
    "english_mainflow = english_mainflow[~english_mainflow['imageid'].isin(english_words[english_words['word shown'].isin(exclude_words)]['imageid'])]"
   ]
  },
  {
   "cell_type": "markdown",
   "metadata": {},
   "source": [
    "Calculate React time"
   ]
  },
  {
   "cell_type": "code",
   "execution_count": 16,
   "metadata": {},
   "outputs": [],
   "source": [
    "# Reaction time analysis\n",
    "reaction_time_means = data.groupby('Language')['key_resp.rt'].mean()\n",
    "reaction_time_sems = data.groupby('Language')['key_resp.rt'].sem()"
   ]
  },
  {
   "cell_type": "markdown",
   "metadata": {},
   "source": [
    "# ALL CODES BELOW GENERATE GRAPH"
   ]
  },
  {
   "cell_type": "markdown",
   "metadata": {},
   "source": [
    "%correct vs lang"
   ]
  },
  {
   "cell_type": "code",
   "execution_count": 17,
   "metadata": {},
   "outputs": [],
   "source": [
    "# Plot percentage correct per language\n",
    "correct_rates = data.groupby('Language')['score'].mean() * 100\n",
    "fig, ax = plt.subplots()\n",
    "correct_rates.plot(kind='bar', color=['red', 'blue'], ax=ax)\n",
    "ax.set_ylabel(\"% Correct\")\n",
    "ax.set_title(\"%Correct by Language\")\n",
    "ax.set_xticklabels(reaction_time_means.index, rotation=0)\n",
    "for container in ax.containers:\n",
    "    if hasattr(container, 'patches'):\n",
    "        ax.bar_label(container)\n",
    "plt.ylim(0,110)\n",
    "save_plot(fig, \"percentage_correct_by_language\")"
   ]
  },
  {
   "cell_type": "markdown",
   "metadata": {},
   "source": [
    "%correct vs length"
   ]
  },
  {
   "cell_type": "code",
   "execution_count": 18,
   "metadata": {},
   "outputs": [],
   "source": [
    "# Word length vs % correct\n",
    "fig, ax = plt.subplots()\n",
    "data['score'] = data['score'] * 100\n",
    "\n",
    "# Plot bar chart\n",
    "plot = sns.barplot(x='word_length', y='score', hue='Language', data=data, ax=ax, errorbar=None, palette=['red', 'blue'])\n",
    "\n",
    "# Remove \"Language\" from legend\n",
    "ax.legend(title=\"\")\n",
    "\n",
    "# Add labels above bars\n",
    "for p in plot.patches:\n",
    "    height = p.get_height()\n",
    "    if height > 0:\n",
    "        label = f'{int(height)}' if height.is_integer() else f'{height:.1f}'\n",
    "        ax.text(p.get_x() + p.get_width() / 2, height, f'{height:.1f}', ha='center', va='bottom', )\n",
    "\n",
    "# Labels and title\n",
    "ax.set_ylabel(\"% Correct\")\n",
    "ax.set_xlabel(\"Word Length\")\n",
    "ax.set_title(\"Percentage Correct by Word Length\")\n",
    "\n",
    "ax.legend(loc='upper right', bbox_to_anchor=(1, 0.2))\n",
    "ax.set_ylim(0, 110)\n",
    "\n",
    "# Save plot\n",
    "save_plot(fig, \"percentage_correct_by_word_length\")\n",
    "\n",
    "# Restore original score values\n",
    "data['score'] = data['score'] / 100"
   ]
  },
  {
   "cell_type": "markdown",
   "metadata": {},
   "source": [
    "%correct vs stimuli"
   ]
  },
  {
   "cell_type": "code",
   "execution_count": 19,
   "metadata": {},
   "outputs": [],
   "source": [
    "# Stimuli vs % correct\n",
    "fig, ax = plt.subplots()\n",
    "data['score'] = data['score'] * 100\n",
    "sns.barplot(x='stimuli', y='score', hue='Language', data=data, ax=ax, errorbar=None, palette=['red', 'blue'])\n",
    "\n",
    "# Add labels above bars\n",
    "for p in ax.patches:\n",
    "    height = p.get_height()\n",
    "    if height > 0:\n",
    "        label = f'{int(height)}' if height.is_integer() else f'{height:.1f}'\n",
    "        ax.text(p.get_x() + p.get_width() / 2, height, label, ha='center', va='bottom')\n",
    "\n",
    "# Labels and title\n",
    "ax.set_ylabel(\"% Correct\")\n",
    "ax.set_xlabel(\"Stimuli Type\")\n",
    "ax.set_title(\"Percentage Correct by Stimuli Type\")\n",
    "\n",
    "# Adjust legend position\n",
    "ax.legend(loc='upper right', bbox_to_anchor=(1, 0.2))\n",
    "\n",
    "# Set y-axis limits\n",
    "ax.set_ylim(0, 110)\n",
    "\n",
    "# Save plot\n",
    "save_plot(fig, \"percentage_correct_by_stimuli\")\n",
    "\n",
    "# Restore original score values\n",
    "data['score'] = data['score'] / 100"
   ]
  },
  {
   "cell_type": "markdown",
   "metadata": {},
   "source": [
    "# Reactime vs lang"
   ]
  },
  {
   "cell_type": "code",
   "execution_count": 20,
   "metadata": {},
   "outputs": [],
   "source": [
    "fig, ax = plt.subplots()\n",
    "reaction_time_means.plot(kind='bar', yerr=reaction_time_sems, capsize=5, color=['red', 'blue'], ax=ax)\n",
    "ax.set_ylabel(\"Reaction Time (s)\")\n",
    "ax.set_title(\"Reaction Time by Language\")\n",
    "ax.set_xticklabels(reaction_time_means.index, rotation=0)\n",
    "for container in ax.containers:\n",
    "    if hasattr(container, 'patches'):\n",
    "        ax.bar_label(container)\n",
    "save_plot(fig, \"reaction_time_by_language\")"
   ]
  },
  {
   "cell_type": "markdown",
   "metadata": {},
   "source": [
    "Freedman-Diaconis Rule AND Create BOX plot AND Histogram"
   ]
  },
  {
   "cell_type": "code",
   "execution_count": 21,
   "metadata": {},
   "outputs": [],
   "source": [
    "def freedman_diaconis_bins(data):\n",
    "    iqr = np.subtract(*np.percentile(data, [75, 25]))\n",
    "    bin_width = 2 * iqr * (len(data) ** (-1/3))\n",
    "    return max(1, int((data.max() - data.min()) / bin_width))"
   ]
  },
  {
   "cell_type": "code",
   "execution_count": 22,
   "metadata": {},
   "outputs": [],
   "source": [
    "def plot_histogram_with_boxplot(data, x_label, title, filename, color):\n",
    "    bins = freedman_diaconis_bins(data)\n",
    "    fig, ax = plt.subplots()\n",
    "    sns.histplot(data, bins=bins, kde=False, color=color, ax=ax)\n",
    "    ax.set_xlabel(x_label)\n",
    "    ax.set_ylabel(\"Frequency\")\n",
    "    ax.set_title(title)\n",
    "    plt.ylim(0, 110)\n",
    "    plt.boxplot(data, vert=False, widths=0.7, positions=[ax.get_ylim()[1] - 5], patch_artist=True, boxprops=dict(facecolor='white', color='black'))\n",
    "    save_plot(fig, filename)"
   ]
  },
  {
   "cell_type": "code",
   "execution_count": 23,
   "metadata": {},
   "outputs": [],
   "source": [
    "# Function to Plot Histogram with Boxplot\n",
    "def plot_histogram_with_boxplot(data, x_label, title, filename, color):\n",
    "    bins = freedman_diaconis_bins(data)\n",
    "    fig, (ax_box, ax_hist) = plt.subplots(2, 1, gridspec_kw={'height_ratios': [1, 3]}, figsize=(8, 6), sharex=True)\n",
    "    \n",
    "    # Boxplot\n",
    "    sns.boxplot(x=data, ax=ax_box, color=color, boxprops=dict(facecolor=\"lightblue\"))\n",
    "    ax_box.set(xlabel='')\n",
    "    ax_box.set_xticks([])\n",
    "    ax_box.set_yticks([])\n",
    "    \n",
    "    # Histogram\n",
    "    sns.histplot(data, bins=bins, kde=False, color=color, ax=ax_hist)\n",
    "    ax_hist.set_xlabel(x_label)\n",
    "    ax_hist.set_ylabel(\"Frequency\")\n",
    "    ax_hist.set_title(title)\n",
    "    \n",
    "    plt.tight_layout()\n",
    "    save_plot(fig, filename)\n"
   ]
  },
  {
   "cell_type": "markdown",
   "metadata": {},
   "source": [
    "Language VS Reaction Time Histogram"
   ]
  },
  {
   "cell_type": "code",
   "execution_count": 24,
   "metadata": {},
   "outputs": [],
   "source": [
    "for lang in ['All', 'English', 'Thai']:\n",
    "    df = data if lang == 'All' else data[data['Language'] == lang]\n",
    "    if not df.empty:\n",
    "        plot_histogram_with_boxplot(df['key_resp.rt'], \"Reaction Time (ms)\", f\"Reaction time: {lang} word\", f\"reaction_time_{lang.lower()}\", 'grey' if lang == 'All' else 'red' if lang == 'English' else 'blue')"
   ]
  },
  {
   "cell_type": "markdown",
   "metadata": {},
   "source": [
    "# Word Length vs Reaction Time Graphs"
   ]
  },
  {
   "cell_type": "code",
   "execution_count": 25,
   "metadata": {},
   "outputs": [
    {
     "data": {
      "text/plain": [
       "'\\nfor lang in [\\'All\\', \\'English\\', \\'Thai\\']:\\n    df = data if lang == \\'All\\' else data[data[\\'Language\\'] == lang]\\n    if not df.empty:\\n        plot_histogram_with_boxplot(df[\\'word_length\\'], \"Word Length\", f\"Reaction Time by Word Length ({lang})\", f\"reaction_time_by_word_length_{lang.lower()}\", \\'grey\\' if lang == \\'All\\' else \\'red\\' if lang == \\'English\\' else \\'blue\\')\\n'"
      ]
     },
     "execution_count": 25,
     "metadata": {},
     "output_type": "execute_result"
    }
   ],
   "source": [
    "'''\n",
    "for lang in ['All', 'English', 'Thai']:\n",
    "    df = data if lang == 'All' else data[data['Language'] == lang]\n",
    "    if not df.empty:\n",
    "        plot_histogram_with_boxplot(df['word_length'], \"Word Length\", f\"Reaction Time by Word Length ({lang})\", f\"reaction_time_by_word_length_{lang.lower()}\", 'grey' if lang == 'All' else 'red' if lang == 'English' else 'blue')\n",
    "'''"
   ]
  },
  {
   "cell_type": "code",
   "execution_count": 26,
   "metadata": {},
   "outputs": [
    {
     "data": {
      "text/plain": [
       "'\\nreaction_time_means = data.groupby(\\'word_length\\')[\\'key_resp.rt\\'].mean()\\nreaction_time_sems = data.groupby(\\'word_length\\')[\\'key_resp.rt\\'].sem()\\nfig, ax = plt.subplots()\\nreaction_time_means.plot(kind=\\'bar\\', yerr=reaction_time_sems, capsize=5, color=\\'grey\\', ax=ax)\\nax.set_ylabel(\"Reaction Time (s)\")\\nax.set_xlabel(\"Word Length\")\\nax.set_title(\"Reaction Time by Word Length\")\\nfor container in ax.containers:\\n    if hasattr(container, \\'patches\\'):\\n        ax.bar_label(container)\\nsave_plot(fig, \"reaction_time_by_word_length\")\\n'"
      ]
     },
     "execution_count": 26,
     "metadata": {},
     "output_type": "execute_result"
    }
   ],
   "source": [
    "'''\n",
    "reaction_time_means = data.groupby('word_length')['key_resp.rt'].mean()\n",
    "reaction_time_sems = data.groupby('word_length')['key_resp.rt'].sem()\n",
    "fig, ax = plt.subplots()\n",
    "reaction_time_means.plot(kind='bar', yerr=reaction_time_sems, capsize=5, color='grey', ax=ax)\n",
    "ax.set_ylabel(\"Reaction Time (s)\")\n",
    "ax.set_xlabel(\"Word Length\")\n",
    "ax.set_title(\"Reaction Time by Word Length\")\n",
    "for container in ax.containers:\n",
    "    if hasattr(container, 'patches'):\n",
    "        ax.bar_label(container)\n",
    "save_plot(fig, \"reaction_time_by_word_length\")\n",
    "'''"
   ]
  },
  {
   "cell_type": "code",
   "execution_count": 27,
   "metadata": {},
   "outputs": [
    {
     "ename": "AttributeError",
     "evalue": "'Axes' object has no attribute 'datavalues'",
     "output_type": "error",
     "traceback": [
      "\u001b[31m---------------------------------------------------------------------------\u001b[39m",
      "\u001b[31mAttributeError\u001b[39m                            Traceback (most recent call last)",
      "\u001b[36mCell\u001b[39m\u001b[36m \u001b[39m\u001b[32mIn[27]\u001b[39m\u001b[32m, line 12\u001b[39m\n\u001b[32m      3\u001b[39m ax.legend(title=\u001b[33m\"\u001b[39m\u001b[33m\"\u001b[39m)\n\u001b[32m      4\u001b[39m \u001b[33;03m'''\u001b[39;00m\n\u001b[32m      5\u001b[39m \u001b[33;03mfor p in plot.patches:\u001b[39;00m\n\u001b[32m      6\u001b[39m \u001b[33;03m    height = p.get_height()\u001b[39;00m\n\u001b[32m   (...)\u001b[39m\u001b[32m     10\u001b[39m \u001b[33;03m        ax.text(p.get_x() + p.get_width() / 2, 1, label, ha='center', va='top', fontsize=10, color='white')\u001b[39;00m\n\u001b[32m     11\u001b[39m \u001b[33;03m'''\u001b[39;00m\n\u001b[32m---> \u001b[39m\u001b[32m12\u001b[39m \u001b[38;5;28;01mfor\u001b[39;00m p, (_, error) \u001b[38;5;129;01min\u001b[39;00m \u001b[38;5;28mzip\u001b[39m(plot.patches, \u001b[43mplot\u001b[49m\u001b[43m.\u001b[49m\u001b[43mdatavalues\u001b[49m):\n\u001b[32m     13\u001b[39m     height = p.get_height()\n\u001b[32m     14\u001b[39m     \u001b[38;5;28;01mif\u001b[39;00m height > \u001b[32m0\u001b[39m:\n",
      "\u001b[31mAttributeError\u001b[39m: 'Axes' object has no attribute 'datavalues'"
     ]
    },
    {
     "data": {
      "image/png": "[encoded data removed]",
      "text/plain": [
       "<Figure size 640x480 with 1 Axes>"
      ]
     },
     "metadata": {},
     "output_type": "display_data"
    }
   ],
   "source": [
    "fig, ax = plt.subplots()\n",
    "plot = sns.barplot(x='word_length', y='key_resp.rt', hue='Language', data=data, ax=ax, errorbar='se', palette=['red', 'blue'])\n",
    "ax.legend(title=\"\")\n",
    "'''\n",
    "for p in plot.patches:\n",
    "    height = p.get_height()\n",
    "    errorbar = p.get_errorbar()\n",
    "    if height > 0:\n",
    "        label = f'{int(height)}' if height.is_integer() else f'{height:.1f}'\n",
    "        ax.text(p.get_x() + p.get_width() / 2, 1, label, ha='center', va='top', fontsize=10, color='white')\n",
    "'''\n",
    "for p, (_, error) in zip(plot.patches, plot.datavalues):\n",
    "    height = p.get_height()\n",
    "    if height > 0:\n",
    "        label = f'{int(height)}' if height.is_integer() else f'{height:.1f}'\n",
    "        ax.text(p.get_x() + p.get_width() / 2, height + error + 0.1, label, \n",
    "                ha='center', va='bottom', fontsize=10, color='black')\n",
    "'''\n",
    "ax.bar_label(ax.containers[0], fmt='%.1f', label_type='edge', padding=3, fontsize=10)\n",
    "ax.bar_label(ax.containers[1], fmt='%.1f', label_type='edge', padding=3, fontsize=10)\n",
    "'''\n",
    "ax.set_ylabel(\"Reaction Time (s)\")\n",
    "ax.set_ylabel(\"Reaction Time (s)\")\n",
    "ax.set_xlabel(\"Word Length\")\n",
    "ax.set_title(\"Reaction Time by Word Length\")\n",
    "ax.legend(loc='upper left', bbox_to_anchor=(0, 1))\n",
    "ax.set_ylim(0, 20)\n",
    "save_plot(fig, \"reaction_time_by_word_length\")"
   ]
  },
  {
   "cell_type": "code",
   "execution_count": 28,
   "metadata": {},
   "outputs": [
    {
     "name": "stdout",
     "output_type": "stream",
     "text": [
      "Word Length: 0, Language: _nolegend_, Height: 6.776302850875001, SE: 0\n",
      "Word Length: 1, Language: _nolegend_, Height: 11.828855265869567, SE: 0\n",
      "Word Length: 2, Language: _nolegend_, Height: 10.277006141958333, SE: 0\n",
      "Word Length: 3, Language: _nolegend_, Height: 15.183142946958334, SE: 0\n",
      "Word Length: 4, Language: _nolegend_, Height: 17.039694884291666, SE: 0\n",
      "Word Length: 0, Language: _nolegend_, Height: 4.256322426999986, SE: 0\n",
      "Word Length: 1, Language: _nolegend_, Height: 4.257361977150003, SE: 0\n",
      "Word Length: 2, Language: _nolegend_, Height: 4.657769012636339, SE: 0\n",
      "Word Length: 3, Language: _nolegend_, Height: 6.2411631805417755, SE: 0\n",
      "Word Length: 4, Language: _nolegend_, Height: 3.5922710263666278, SE: 0\n"
     ]
    }
   ],
   "source": [
    "import matplotlib.pyplot as plt\n",
    "import seaborn as sns\n",
    "import pandas as pd\n",
    "\n",
    "fig, ax = plt.subplots()\n",
    "\n",
    "# Create the barplot\n",
    "plot = sns.barplot(x='word_length', y='key_resp.rt', hue='Language', data=data, ax=ax, errorbar='se', palette=['red', 'blue'])\n",
    "\n",
    "# Compute standard error manually\n",
    "se_values = data.groupby(['word_length', 'Language'])['key_resp.rt'].sem().reset_index()\n",
    "se_dict = {(row['word_length'], row['Language']): row['key_resp.rt'] for _, row in se_values.iterrows()}\n",
    "\n",
    "# Remove legend title\n",
    "ax.legend(title=\"\")\n",
    "\n",
    "# Manually place labels at height + SE + padding\n",
    "for container in plot.containers:\n",
    "    for bar in container:\n",
    "        height = bar.get_height()\n",
    "        word_length = int(round(bar.get_x() + bar.get_width() / 2))  # Approximate x position\n",
    "        language = bar.get_label()  # Get hue category (may be empty)\n",
    "\n",
    "        # Retrieve standard error if available, else default to 0\n",
    "        error = se_dict.get((word_length, language), 0)\n",
    "\n",
    "        # Debugging print statements (check values)\n",
    "        print(f\"Word Length: {word_length}, Language: {language}, Height: {height}, SE: {error}\")\n",
    "\n",
    "        if height > 0:\n",
    "            label = f'{int(height)}' if height.is_integer() else f'{height:.1f}'\n",
    "            ax.text(bar.get_x() + bar.get_width() / 2, height + error + 0.1, label,\n",
    "                    ha='center', va='bottom', fontsize=10, color='black', weight='bold')\n",
    "\n",
    "# Adjust labels, title, and limits\n",
    "ax.set_ylabel(\"Reaction Time (s)\")\n",
    "ax.set_xlabel(\"Word Length\")\n",
    "ax.set_title(\"Reaction Time by Word Length\")\n",
    "ax.legend(loc='upper left', bbox_to_anchor=(0, 1))\n",
    "ax.set_ylim(0, 20)\n",
    "\n",
    "# Save the plot\n",
    "save_plot(fig, \"reaction_time_by_word_length\")\n"
   ]
  },
  {
   "cell_type": "markdown",
   "metadata": {},
   "source": [
    "# Stimuli Type vs Reaction Time Graphs"
   ]
  },
  {
   "cell_type": "code",
   "execution_count": null,
   "metadata": {},
   "outputs": [
    {
     "data": {
      "text/plain": [
       "'\\nfor lang in [\\'All\\', \\'English\\', \\'Thai\\']:\\n    df = data if lang == \\'All\\' else data[data[\\'Language\\'] == lang]\\n    if not df.empty:\\n        plot_histogram_with_boxplot(df[\\'key_resp.rt\\'], \"Reaction Time (ms)\", f\"Reaction Time by Stimuli Type ({lang})\", f\"reaction_time_by_stimuli_{lang.lower()}\", \\'grey\\' if lang == \\'All\\' else \\'red\\' if lang == \\'English\\' else \\'blue\\')\\n'"
      ]
     },
     "execution_count": 21,
     "metadata": {},
     "output_type": "execute_result"
    }
   ],
   "source": [
    "'''\n",
    "for lang in ['All', 'English', 'Thai']:\n",
    "    df = data if lang == 'All' else data[data['Language'] == lang]\n",
    "    if not df.empty:\n",
    "        plot_histogram_with_boxplot(df['key_resp.rt'], \"Reaction Time (ms)\", f\"Reaction Time by Stimuli Type ({lang})\", f\"reaction_time_by_stimuli_{lang.lower()}\", 'grey' if lang == 'All' else 'red' if lang == 'English' else 'blue')\n",
    "'''"
   ]
  },
  {
   "cell_type": "code",
   "execution_count": null,
   "metadata": {},
   "outputs": [
    {
     "data": {
      "text/plain": [
       "'\\nreaction_time_means = data.groupby(\\'stimuli\\')[\\'key_resp.rt\\'].mean()\\nreaction_time_sems = data.groupby(\\'stimuli\\')[\\'key_resp.rt\\'].sem()\\nfig, ax = plt.subplots()\\nreaction_time_means.plot(kind=\\'bar\\', yerr=reaction_time_sems, capsize=5, color=\\'grey\\', ax=ax)\\nax.set_ylabel(\"Reaction Time (s)\")\\nax.set_xlabel(\"Stimuli Type\")\\nax.set_title(\"Reaction Time by Stimuli Type\")\\nfor container in ax.containers:\\n    if hasattr(container, \\'patches\\'):\\n        ax.bar_label(container)\\nsave_plot(fig, \"reaction_time_by_stimuli\")\\n'"
      ]
     },
     "execution_count": 22,
     "metadata": {},
     "output_type": "execute_result"
    }
   ],
   "source": [
    "'''\n",
    "reaction_time_means = data.groupby('stimuli')['key_resp.rt'].mean()\n",
    "reaction_time_sems = data.groupby('stimuli')['key_resp.rt'].sem()\n",
    "fig, ax = plt.subplots()\n",
    "reaction_time_means.plot(kind='bar', yerr=reaction_time_sems, capsize=5, color='grey', ax=ax)\n",
    "ax.set_ylabel(\"Reaction Time (s)\")\n",
    "ax.set_xlabel(\"Stimuli Type\")\n",
    "ax.set_title(\"Reaction Time by Stimuli Type\")\n",
    "for container in ax.containers:\n",
    "    if hasattr(container, 'patches'):\n",
    "        ax.bar_label(container)\n",
    "save_plot(fig, \"reaction_time_by_stimuli\")\n",
    "'''"
   ]
  },
  {
   "cell_type": "code",
   "execution_count": null,
   "metadata": {},
   "outputs": [],
   "source": [
    "fig, ax = plt.subplots()\n",
    "plot = sns.barplot(x='stimuli', y='key_resp.rt', hue='Language', data=data, ax=ax, errorbar='se', palette=['red', 'blue'])\n",
    "ax.legend(title=\"\")\n",
    "for p in plot.patches:\n",
    "    height = p.get_height()\n",
    "    if height > 0:\n",
    "        label = f'{int(height)}' if height.is_integer() else f'{height:.1f}'\n",
    "        ax.text(p.get_x() + p.get_width() / 2, 1, label, ha='center', va='top', fontsize=10, color='white')\n",
    "ax.set_ylabel(\"Reaction Time (s)\")\n",
    "ax.set_xlabel(\"Stimuli Type\")\n",
    "ax.set_title(\"Reaction Time by Stimuli Type\")\n",
    "ax.legend(loc='upper left', bbox_to_anchor=(0, 1))\n",
    "ax.set_ylim(0, 20)\n",
    "save_plot(fig, \"reaction_time_by_stimuli\")"
   ]
  }
 ],
 "metadata": {
  "kernelspec": {
   "display_name": "Python 3",
   "language": "python",
   "name": "python3"
  },
  "language_info": {
   "codemirror_mode": {
    "name": "ipython",
    "version": 3
   },
   "file_extension": ".py",
   "mimetype": "text/x-python",
   "name": "python",
   "nbconvert_exporter": "python",
   "pygments_lexer": "ipython3",
   "version": "3.11.9"
  }
 },
 "nbformat": 4,
 "nbformat_minor": 2
}
