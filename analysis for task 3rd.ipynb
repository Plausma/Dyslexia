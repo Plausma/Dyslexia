{
 "cells": [
  {
   "cell_type": "code",
   "execution_count": 24,
   "metadata": {},
   "outputs": [],
   "source": [
    "import pandas as pd\n",
    "import numpy as np\n",
    "import matplotlib.pyplot as plt\n",
    "import scipy.stats as stats\n",
    "import seaborn as sns\n",
    "from tkinter import Tk     \n"
   ]
  },
  {
   "cell_type": "markdown",
   "metadata": {},
   "source": [
    "# Data selection\n",
    "choose which data are used in the experiment, english and thai one"
   ]
  },
  {
   "cell_type": "code",
   "execution_count": 25,
   "metadata": {},
   "outputs": [],
   "source": [
    "# read and claen the data file from task III (image word relationship test)\n",
    "# let the user choose the file\n",
    " \n",
    "from tkinter.filedialog import askopenfilename\n",
    "\n",
    "Tk().withdraw() # we don't want a full GUI, so keep the root window from appearing\n",
    "\n",
    "username = input(\"user identity (this string will be named in front of every graph picture):\")\n",
    "datafile = askopenfilename(title=\"Choose the data file from the experiment, TH mode\")\n",
    "imgordth = pd.read_csv(datafile)\n",
    "datafile = askopenfilename(title=\"Choose the data file from the experiment, EN mode\")\n",
    "imgorden = pd.read_csv(datafile)\n"
   ]
  },
  {
   "cell_type": "markdown",
   "metadata": {},
   "source": [
    "# cleaning data\n",
    "this but a simple row removal and column renaming for convenience"
   ]
  },
  {
   "cell_type": "code",
   "execution_count": 28,
   "metadata": {},
   "outputs": [],
   "source": [
    "# claenadata\n",
    "def III_cut_and_clean(prepdf):\n",
    "    cutdf = prepdf.iloc[1:241][[\"lang\",\"wordid\",\"truestate\",\"image.started\",\"key_resp.started\",\"key_resp.keys\",\"key_resp.rt\"]].reset_index(drop=True)\n",
    "    cutdf = cutdf.rename({\"image.started\":\"word_show\",\"key_resp.started\":\"image_show\",\"key_resp.keys\":\"key\",\"key_resp.rt\":\"key_RT\"}, axis=\"columns\")\n",
    "    return cutdf\n",
    "\n",
    "imgordth = III_cut_and_clean(imgordth)\n",
    "imgorden = III_cut_and_clean(imgorden)\n",
    "\n",
    "# call the reference table\n",
    "oldword = pd.read_excel(\"./image test/ref/wordlist_dict.xlsx\")\n",
    "newword = pd.read_excel(\"./image test/ref/newwordlist_dict.xlsx\")\n"
   ]
  },
  {
   "cell_type": "markdown",
   "metadata": {},
   "source": [
    "# Define function that add that word is shown and whether if its an old or new image\n",
    "add column `word shown` for easier datafram reading, `old-new` for a new and old word, and `len` for word length"
   ]
  },
  {
   "cell_type": "code",
   "execution_count": 29,
   "metadata": {},
   "outputs": [],
   "source": [
    "# add word that actually show and add is it an old or new word\n",
    "# also add length of that word\n",
    "\n",
    "# but need to read the file language first\n",
    "def III_wordload_len_learnt(cutdf):\n",
    "    if cutdf.iloc[0,0] == 1:\n",
    "        print(\"thai language experiemnt loaded\")\n",
    "        globallang = 'th'\n",
    "\n",
    "    elif cutdf.iloc[0,0] == 2:\n",
    "        print(\"english language experiemnt loaded\")\n",
    "        globallang = 'en'\n",
    "\n",
    "    else:\n",
    "        print(\"??????????????????? what file did you choose dawg?\")\n",
    "\n",
    "    for i in range(0,len(cutdf.index)):\n",
    "        idnow = cutdf.loc[i,\"wordid\"]\n",
    "        if idnow in oldword['imgid'].values :\n",
    "            wordshown = oldword.loc[(oldword['imgid'] == idnow), [globallang]].values[0]\n",
    "            cutdf.loc[i,\"word shown\"] = wordshown\n",
    "            cutdf.loc[i,\"old-new\"] = \"old\"\n",
    "\n",
    "        elif idnow in newword['imgid'].values:\n",
    "            wordshown = newword.loc[(newword['imgid'] == idnow), [globallang]].values[0]\n",
    "            cutdf.loc[i,\"word shown\"] = wordshown\n",
    "            cutdf.loc[i,\"old-new\"] = \"new\"\n",
    "        else:\n",
    "            print(\"unkown id used in the experiment file, stopping loop\")\n",
    "            break\n",
    "\n",
    "        cutdf.loc[i, \"len\"] = len(wordshown[0])\n"
   ]
  },
  {
   "cell_type": "code",
   "execution_count": 30,
   "metadata": {},
   "outputs": [
    {
     "name": "stdout",
     "output_type": "stream",
     "text": [
      "english language experiemnt loaded\n",
      "thai language experiemnt loaded\n"
     ]
    }
   ],
   "source": [
    "III_wordload_len_learnt(imgorden)\n",
    "III_wordload_len_learnt(imgordth)"
   ]
  },
  {
   "cell_type": "code",
   "execution_count": 31,
   "metadata": {},
   "outputs": [],
   "source": [
    "# special, remove the word that user is not understandf before\n",
    "def III_remove_excluded_words(df, exclude_words):\n",
    "    # Ensure 'word shown' is a string column, and then strip and convert to lowercase\n",
    "    df['word shown'] = df['word shown'].astype(str).str.strip().str.lower()\n",
    "\n",
    "    # Convert the exclude_words list to lowercase for case-insensitivity\n",
    "    exclude_words = [word.lower() for word in exclude_words]\n",
    "\n",
    "    # Filter out rows where 'word shown' contains any of the words in exclude_words\n",
    "    df_filtered = df[~df['word shown'].isin(exclude_words)]\n",
    "    \n",
    "    print(f\"Rows removed: {len(df) - len(df_filtered)}\")  # Print how many rows were removed\n",
    "    return df_filtered"
   ]
  },
  {
   "cell_type": "code",
   "execution_count": 32,
   "metadata": {},
   "outputs": [
    {
     "name": "stdout",
     "output_type": "stream",
     "text": [
      "Rows removed: 16\n"
     ]
    }
   ],
   "source": [
    "exclude_words =  [\"pear\", \"hose\", \"drill\", \"couch\"]\n",
    "imgorden = III_remove_excluded_words(imgorden, exclude_words)"
   ]
  },
  {
   "cell_type": "markdown",
   "metadata": {},
   "source": [
    "# Assign score "
   ]
  },
  {
   "cell_type": "code",
   "execution_count": 39,
   "metadata": {},
   "outputs": [],
   "source": [
    "# read the key and truestate file --> assign scoer --> plot total score in each correct and incorrect\n",
    "def III_total_score(cutdf, titlelang, dir):\n",
    "    cutdf.loc[(cutdf[\"truestate\"] == 0) & (cutdf[\"key\"] == 'z'),\"score\"] = 0\n",
    "    cutdf.loc[(cutdf[\"truestate\"] == 0) & (cutdf[\"key\"] == 'x'),\"score\"] = 1\n",
    "    cutdf.loc[(cutdf[\"truestate\"] == 1) & (cutdf[\"key\"] == 'z'),\"score\"] = 1\n",
    "    cutdf.loc[(cutdf[\"truestate\"] == 1) & (cutdf[\"key\"] == 'x'),\"score\"] = 0\n",
    "\n",
    "    correctscore = cutdf.loc[cutdf['score'] == 1, \"score\"].count()\n",
    "    wrongscore = cutdf.loc[cutdf['score'] == 0,\"score\"].count()\n",
    "    total = correctscore + wrongscore\n",
    "\n",
    "    # xlabelstr = f\"{100*correctscore / total:.2f}%({correctscore}) correct, {100*wrongscore / total:.2f}%({wrongscore}) wrong, {total} total\"\n",
    "    \n",
    "    # plt.figure(figsize=(6, 5))\n",
    "    # plt.bar([\"correct\", \"incorrect\"],[correctscore, wrongscore], width=0.5, edgecolor='black')\n",
    "    # plt.title(f\"correct and incorrect ratio, {titlelang}\")\n",
    "    # plt.ylabel(\"choice frequency\")\n",
    "    # plt.xlabel(xlabelstr)\n",
    "    # plt.savefig(dir)\n",
    "\n",
    "III_total_score(imgorden, \"english\", \"./figure/III-ratio EN.png\")\n",
    "III_total_score(imgordth, \"thai\", \"./figure/III-ratio TH.png\")"
   ]
  },
  {
   "cell_type": "code",
   "execution_count": 40,
   "metadata": {},
   "outputs": [],
   "source": [
    "imgordall = pd.concat([imgorden, imgordth], ignore_index=True)"
   ]
  },
  {
   "cell_type": "markdown",
   "metadata": {},
   "source": [
    "# Coloring variable"
   ]
  },
  {
   "cell_type": "code",
   "execution_count": 34,
   "metadata": {},
   "outputs": [],
   "source": [
    "redgradient = [\"#ffa5bb\",\"#ff9eb6\", \"#ff7d9d\", \"#ff6087\",\"#ff0040\" ] # thai language, use the last index value as the main color\n",
    "bluegradient = [\"#c0d7ff\", \"#92bcff\", \"#5e9eff\",\"#3686ff\",\"#0067ff\" ] # english language, use the last index value as the main color\n",
    "gaygradient = [\"#949494\", '#727272', '#4b4b4b', '#484848', '#373737'] # overall gradient\n",
    "colincorrect = '#ff6962'\n",
    "colcorrect  = '#77dd76'"
   ]
  },
  {
   "cell_type": "markdown",
   "metadata": {},
   "source": [
    "# plot correct and wrong responses for each word length\n",
    "self explanatory, plot correct and wrong count from `score` by the column `len`\n",
    "\n",
    "and also chi square table, tho, its only readable in here, maybe export it too?"
   ]
  },
  {
   "cell_type": "code",
   "execution_count": 37,
   "metadata": {},
   "outputs": [],
   "source": [
    "\n",
    "from scipy.stats import chi2_contingency\n",
    "\n",
    "def III_plot_chi_square(df, title=\"Correct and Incorrect Scores by Word Length\", savefig_dir=None):\n",
    "   # Grouping by 'len' and 'score' to get counts\n",
    "    count_table = pd.crosstab(df['len'], df['score'], margins=False)\n",
    "\n",
    "    # Plotting the stacked bar plot with custom colors (red for incorrect, blue for correct)\n",
    "    ax = count_table.plot(kind='bar', stacked=True, color=[colincorrect, colcorrect], figsize=(8, 6), edgecolor = 'black')\n",
    "\n",
    "    # Adding labels and title\n",
    "    plt.xlabel('Word Length')\n",
    "    plt.ylabel('Count')\n",
    "    plt.title(title)\n",
    "    plt.xticks(rotation=0)\n",
    "    plt.legend(['Incorrect (0)', 'Correct (1)'])\n",
    "\n",
    "    # Adding labels on top of each bar, positioned on the same axis\n",
    "    for i in range(len(count_table)):\n",
    "        bottom_value = 0  # To position the correct label on top of the bars\n",
    "        for j in range(len(count_table.columns)):\n",
    "            value = count_table.iloc[i, j]\n",
    "            if value > 0:\n",
    "                ax.text(i, bottom_value + value / 2, str(value), ha='center', va='center', fontsize=10, color =  'black')\n",
    "                bottom_value += value  # Update the bottom_value to stack the next value on top\n",
    "\n",
    "    # Saving the plot if a save directory is specified\n",
    "    if savefig_dir:\n",
    "        plt.savefig(savefig_dir)\n",
    "        print(f\"Plot saved to {savefig_dir}\")\n",
    "    else:\n",
    "        plt.show()\n",
    "\n",
    "    # Chi-square test\n",
    "    chi2, p, dof, expected = chi2_contingency(count_table)\n",
    "\n",
    "    # Creating a DataFrame to display the chi-square test results\n",
    "    chi_square_results = pd.DataFrame({\n",
    "        'Chi-square Statistic': [chi2],\n",
    "        'P-value': [p],\n",
    "        'Degrees of Freedom': [dof],\n",
    "        'Expected Frequencies': [expected]\n",
    "    })\n",
    "\n",
    "    # Displaying the chi-square test results as a DataFrame\n",
    "    print(\"\\nChi-square Test Results:\")\n",
    "    print(chi_square_results)\n"
   ]
  },
  {
   "cell_type": "code",
   "execution_count": null,
   "metadata": {},
   "outputs": [
    {
     "ename": "KeyError",
     "evalue": "'score'",
     "output_type": "error",
     "traceback": [
      "\u001b[1;31m---------------------------------------------------------------------------\u001b[0m",
      "\u001b[1;31mKeyError\u001b[0m                                  Traceback (most recent call last)",
      "File \u001b[1;32m~\\AppData\\Local\\Packages\\PythonSoftwareFoundation.Python.3.10_qbz5n2kfra8p0\\LocalCache\\local-packages\\Python310\\site-packages\\pandas\\core\\indexes\\base.py:3805\u001b[0m, in \u001b[0;36mIndex.get_loc\u001b[1;34m(self, key)\u001b[0m\n\u001b[0;32m   3804\u001b[0m \u001b[38;5;28;01mtry\u001b[39;00m:\n\u001b[1;32m-> 3805\u001b[0m     \u001b[38;5;28;01mreturn\u001b[39;00m \u001b[38;5;28;43mself\u001b[39;49m\u001b[38;5;241;43m.\u001b[39;49m\u001b[43m_engine\u001b[49m\u001b[38;5;241;43m.\u001b[39;49m\u001b[43mget_loc\u001b[49m\u001b[43m(\u001b[49m\u001b[43mcasted_key\u001b[49m\u001b[43m)\u001b[49m\n\u001b[0;32m   3806\u001b[0m \u001b[38;5;28;01mexcept\u001b[39;00m \u001b[38;5;167;01mKeyError\u001b[39;00m \u001b[38;5;28;01mas\u001b[39;00m err:\n",
      "File \u001b[1;32mindex.pyx:167\u001b[0m, in \u001b[0;36mpandas._libs.index.IndexEngine.get_loc\u001b[1;34m()\u001b[0m\n",
      "File \u001b[1;32mindex.pyx:196\u001b[0m, in \u001b[0;36mpandas._libs.index.IndexEngine.get_loc\u001b[1;34m()\u001b[0m\n",
      "File \u001b[1;32mpandas\\\\_libs\\\\hashtable_class_helper.pxi:7081\u001b[0m, in \u001b[0;36mpandas._libs.hashtable.PyObjectHashTable.get_item\u001b[1;34m()\u001b[0m\n",
      "File \u001b[1;32mpandas\\\\_libs\\\\hashtable_class_helper.pxi:7089\u001b[0m, in \u001b[0;36mpandas._libs.hashtable.PyObjectHashTable.get_item\u001b[1;34m()\u001b[0m\n",
      "\u001b[1;31mKeyError\u001b[0m: 'score'",
      "\nThe above exception was the direct cause of the following exception:\n",
      "\u001b[1;31mKeyError\u001b[0m                                  Traceback (most recent call last)",
      "Cell \u001b[1;32mIn [38], line 1\u001b[0m\n\u001b[1;32m----> 1\u001b[0m \u001b[43mIII_plot_chi_square\u001b[49m\u001b[43m(\u001b[49m\u001b[43mimgordall\u001b[49m\u001b[43m,\u001b[49m\u001b[43m \u001b[49m\u001b[38;5;124;43m\"\u001b[39;49m\u001b[38;5;124;43mcorrect/wrong count by word length: overall\u001b[39;49m\u001b[38;5;124;43m\"\u001b[39;49m\u001b[43m,\u001b[49m\u001b[38;5;124;43mf\u001b[39;49m\u001b[38;5;124;43m\"\u001b[39;49m\u001b[38;5;124;43m./figure/\u001b[39;49m\u001b[38;5;132;43;01m{\u001b[39;49;00m\u001b[43musername\u001b[49m\u001b[38;5;132;43;01m}\u001b[39;49;00m\u001b[38;5;124;43m III ratio by len all.png\u001b[39;49m\u001b[38;5;124;43m\"\u001b[39;49m\u001b[43m)\u001b[49m\n\u001b[0;32m      2\u001b[0m III_plot_chi_square(imgorden,  \u001b[38;5;124m\"\u001b[39m\u001b[38;5;124mcorrect/wrong count by word length: english\u001b[39m\u001b[38;5;124m\"\u001b[39m,\u001b[38;5;124mf\u001b[39m\u001b[38;5;124m\"\u001b[39m\u001b[38;5;124m./figure/\u001b[39m\u001b[38;5;132;01m{\u001b[39;00musername\u001b[38;5;132;01m}\u001b[39;00m\u001b[38;5;124m III ratio by len EN.png\u001b[39m\u001b[38;5;124m\"\u001b[39m)\n\u001b[0;32m      3\u001b[0m III_plot_chi_square(imgordth,  \u001b[38;5;124m\"\u001b[39m\u001b[38;5;124mcorrect/wrong count by word length: thai\u001b[39m\u001b[38;5;124m\"\u001b[39m,   \u001b[38;5;124mf\u001b[39m\u001b[38;5;124m\"\u001b[39m\u001b[38;5;124m./figure/\u001b[39m\u001b[38;5;132;01m{\u001b[39;00musername\u001b[38;5;132;01m}\u001b[39;00m\u001b[38;5;124m III ratio by len TH.png\u001b[39m\u001b[38;5;124m\"\u001b[39m)\n",
      "Cell \u001b[1;32mIn [37], line 5\u001b[0m, in \u001b[0;36mIII_plot_chi_square\u001b[1;34m(df, title, savefig_dir)\u001b[0m\n\u001b[0;32m      3\u001b[0m \u001b[38;5;28;01mdef\u001b[39;00m \u001b[38;5;21mIII_plot_chi_square\u001b[39m(df, title\u001b[38;5;241m=\u001b[39m\u001b[38;5;124m\"\u001b[39m\u001b[38;5;124mCorrect and Incorrect Scores by Word Length\u001b[39m\u001b[38;5;124m\"\u001b[39m, savefig_dir\u001b[38;5;241m=\u001b[39m\u001b[38;5;28;01mNone\u001b[39;00m):\n\u001b[0;32m      4\u001b[0m    \u001b[38;5;66;03m# Grouping by 'len' and 'score' to get counts\u001b[39;00m\n\u001b[1;32m----> 5\u001b[0m     count_table \u001b[38;5;241m=\u001b[39m pd\u001b[38;5;241m.\u001b[39mcrosstab(df[\u001b[38;5;124m'\u001b[39m\u001b[38;5;124mlen\u001b[39m\u001b[38;5;124m'\u001b[39m], \u001b[43mdf\u001b[49m\u001b[43m[\u001b[49m\u001b[38;5;124;43m'\u001b[39;49m\u001b[38;5;124;43mscore\u001b[39;49m\u001b[38;5;124;43m'\u001b[39;49m\u001b[43m]\u001b[49m, margins\u001b[38;5;241m=\u001b[39m\u001b[38;5;28;01mFalse\u001b[39;00m)\n\u001b[0;32m      7\u001b[0m     \u001b[38;5;66;03m# Plotting the stacked bar plot with custom colors (red for incorrect, blue for correct)\u001b[39;00m\n\u001b[0;32m      8\u001b[0m     ax \u001b[38;5;241m=\u001b[39m count_table\u001b[38;5;241m.\u001b[39mplot(kind\u001b[38;5;241m=\u001b[39m\u001b[38;5;124m'\u001b[39m\u001b[38;5;124mbar\u001b[39m\u001b[38;5;124m'\u001b[39m, stacked\u001b[38;5;241m=\u001b[39m\u001b[38;5;28;01mTrue\u001b[39;00m, color\u001b[38;5;241m=\u001b[39m[colincorrect, colcorrect], figsize\u001b[38;5;241m=\u001b[39m(\u001b[38;5;241m8\u001b[39m, \u001b[38;5;241m6\u001b[39m), edgecolor \u001b[38;5;241m=\u001b[39m \u001b[38;5;124m'\u001b[39m\u001b[38;5;124mblack\u001b[39m\u001b[38;5;124m'\u001b[39m)\n",
      "File \u001b[1;32m~\\AppData\\Local\\Packages\\PythonSoftwareFoundation.Python.3.10_qbz5n2kfra8p0\\LocalCache\\local-packages\\Python310\\site-packages\\pandas\\core\\frame.py:4102\u001b[0m, in \u001b[0;36mDataFrame.__getitem__\u001b[1;34m(self, key)\u001b[0m\n\u001b[0;32m   4100\u001b[0m \u001b[38;5;28;01mif\u001b[39;00m \u001b[38;5;28mself\u001b[39m\u001b[38;5;241m.\u001b[39mcolumns\u001b[38;5;241m.\u001b[39mnlevels \u001b[38;5;241m>\u001b[39m \u001b[38;5;241m1\u001b[39m:\n\u001b[0;32m   4101\u001b[0m     \u001b[38;5;28;01mreturn\u001b[39;00m \u001b[38;5;28mself\u001b[39m\u001b[38;5;241m.\u001b[39m_getitem_multilevel(key)\n\u001b[1;32m-> 4102\u001b[0m indexer \u001b[38;5;241m=\u001b[39m \u001b[38;5;28;43mself\u001b[39;49m\u001b[38;5;241;43m.\u001b[39;49m\u001b[43mcolumns\u001b[49m\u001b[38;5;241;43m.\u001b[39;49m\u001b[43mget_loc\u001b[49m\u001b[43m(\u001b[49m\u001b[43mkey\u001b[49m\u001b[43m)\u001b[49m\n\u001b[0;32m   4103\u001b[0m \u001b[38;5;28;01mif\u001b[39;00m is_integer(indexer):\n\u001b[0;32m   4104\u001b[0m     indexer \u001b[38;5;241m=\u001b[39m [indexer]\n",
      "File \u001b[1;32m~\\AppData\\Local\\Packages\\PythonSoftwareFoundation.Python.3.10_qbz5n2kfra8p0\\LocalCache\\local-packages\\Python310\\site-packages\\pandas\\core\\indexes\\base.py:3812\u001b[0m, in \u001b[0;36mIndex.get_loc\u001b[1;34m(self, key)\u001b[0m\n\u001b[0;32m   3807\u001b[0m     \u001b[38;5;28;01mif\u001b[39;00m \u001b[38;5;28misinstance\u001b[39m(casted_key, \u001b[38;5;28mslice\u001b[39m) \u001b[38;5;129;01mor\u001b[39;00m (\n\u001b[0;32m   3808\u001b[0m         \u001b[38;5;28misinstance\u001b[39m(casted_key, abc\u001b[38;5;241m.\u001b[39mIterable)\n\u001b[0;32m   3809\u001b[0m         \u001b[38;5;129;01mand\u001b[39;00m \u001b[38;5;28many\u001b[39m(\u001b[38;5;28misinstance\u001b[39m(x, \u001b[38;5;28mslice\u001b[39m) \u001b[38;5;28;01mfor\u001b[39;00m x \u001b[38;5;129;01min\u001b[39;00m casted_key)\n\u001b[0;32m   3810\u001b[0m     ):\n\u001b[0;32m   3811\u001b[0m         \u001b[38;5;28;01mraise\u001b[39;00m InvalidIndexError(key)\n\u001b[1;32m-> 3812\u001b[0m     \u001b[38;5;28;01mraise\u001b[39;00m \u001b[38;5;167;01mKeyError\u001b[39;00m(key) \u001b[38;5;28;01mfrom\u001b[39;00m \u001b[38;5;21;01merr\u001b[39;00m\n\u001b[0;32m   3813\u001b[0m \u001b[38;5;28;01mexcept\u001b[39;00m \u001b[38;5;167;01mTypeError\u001b[39;00m:\n\u001b[0;32m   3814\u001b[0m     \u001b[38;5;66;03m# If we have a listlike key, _check_indexing_error will raise\u001b[39;00m\n\u001b[0;32m   3815\u001b[0m     \u001b[38;5;66;03m#  InvalidIndexError. Otherwise we fall through and re-raise\u001b[39;00m\n\u001b[0;32m   3816\u001b[0m     \u001b[38;5;66;03m#  the TypeError.\u001b[39;00m\n\u001b[0;32m   3817\u001b[0m     \u001b[38;5;28mself\u001b[39m\u001b[38;5;241m.\u001b[39m_check_indexing_error(key)\n",
      "\u001b[1;31mKeyError\u001b[0m: 'score'"
     ]
    }
   ],
   "source": [
    "III_plot_chi_square(imgordall, \"correct/wrong count by word length: overall\",f\"./figure/{username} III ratio by len all.png\")\n",
    "III_plot_chi_square(imgorden,  \"correct/wrong count by word length: english\",f\"./figure/{username} III ratio by len EN.png\")\n",
    "III_plot_chi_square(imgordth,  \"correct/wrong count by word length: thai\",   f\"./figure/{username} III ratio by len TH.png\")"
   ]
  },
  {
   "cell_type": "markdown",
   "metadata": {},
   "source": [
    "# plot accuracy response for each word length\n",
    "self explanatory, plot correct and wrong accuracy from `score` by the column `len`"
   ]
  },
  {
   "cell_type": "code",
   "execution_count": null,
   "metadata": {},
   "outputs": [],
   "source": [
    "\n",
    "def III_plot_correct_accuracy(df, dir, title=\"Proportion of Correct Responses by Word Length\"):\n",
    "    \"\"\"\n",
    "    Plots the proportion of correct responses for each word length as a bar chart.\n",
    "\n",
    "    Parameters:\n",
    "        df (pd.DataFrame): DataFrame with 'len' (word length) and 'score' (0 or 1).\n",
    "        title (str): Title of the plot.\n",
    "    \"\"\"\n",
    "    # Calculate proportions\n",
    "    proportion_df = df.groupby('len')['score'].mean() * 100  # Convert to percentage\n",
    "\n",
    "    # Plot\n",
    "    plt.figure(figsize=(8, 5))\n",
    "    ax = sns.barplot(x=proportion_df.index, y=proportion_df.values, palette= gaygradient, edgecolor='black',width=0.5)\n",
    "\n",
    "    # Add labels on top of bars\n",
    "    for p in ax.patches:\n",
    "        ax.annotate(f\"{p.get_height():.1f}%\", \n",
    "                    (p.get_x() + p.get_width() / 2, p.get_height() + 2), \n",
    "                    ha='center', va='bottom', fontsize=10, fontweight='light', color='black')\n",
    "\n",
    "    # Formatting\n",
    "    plt.xlabel(\"Word Length\")\n",
    "    plt.ylabel(\"Correct Proportion (%)\")\n",
    "    plt.title(title)\n",
    "    plt.ylim(0, 100)  # Ensure percentage scale\n",
    "\n",
    "    plt.savefig(dir)\n"
   ]
  },
  {
   "cell_type": "code",
   "execution_count": 220,
   "metadata": {},
   "outputs": [
    {
     "data": {
      "image/png": "[encoded data removed]",
      "text/plain": [
       "<Figure size 800x500 with 1 Axes>"
      ]
     },
     "metadata": {},
     "output_type": "display_data"
    }
   ],
   "source": [
    "III_plot_correct_accuracy(imgordall,f\"./figure/{username} III percent by len all.png\", \"Proportion of correct responses by word length: overall\")"
   ]
  },
  {
   "cell_type": "markdown",
   "metadata": {},
   "source": [
    "# plot accuracy response for each word length in thai and english language\n",
    " plot correct and wrong accuracy both thai and english as percentage from `score` by the column `len`"
   ]
  },
  {
   "cell_type": "code",
   "execution_count": 221,
   "metadata": {},
   "outputs": [],
   "source": [
    "\n",
    "\n",
    "def III_plot_grouped_proportion(df1, df2, dir, title=\"Comparison of Correct Proportion by Word Length\"):\n",
    "    \"\"\"\n",
    "    Plots the proportion of correct responses for two DataFrames as a grouped bar chart.\n",
    "\n",
    "    Parameters:\n",
    "        df1 (pd.DataFrame): First dataset with 'len' and 'score'.\n",
    "        df2 (pd.DataFrame): Second dataset with 'len' and 'score'.\n",
    "        labels (tuple): Labels for the two datasets (e.g., (\"Dataset 1\", \"Dataset 2\")).\n",
    "        title (str): Title of the plot.\n",
    "    \"\"\"\n",
    "    # Calculate proportions\n",
    "    proportion_df1 = df1.groupby('len')['score'].mean() * 100\n",
    "    proportion_df2 = df2.groupby('len')['score'].mean() * 100\n",
    "\n",
    "    # Merge into a single DataFrame for plotting\n",
    "    labels=[\"thai\", \"english\"]\n",
    "    prop_df = pd.DataFrame({labels[0]: proportion_df1, labels[1]: proportion_df2}).reset_index()\n",
    "\n",
    "    # Sample data from prop_df\n",
    "    len_values = prop_df['len']\n",
    "    values = [prop_df['thai'], prop_df['english']]\n",
    "    colors = [bluegradient, redgradient]\n",
    "    labels = [\"Thai\", \"English\"]\n",
    "\n",
    "    # Bar width and positions\n",
    "    bar_width = 0.4\n",
    "    x = np.arange(len(len_values))  # X positions for groups\n",
    "\n",
    "    # Create figure\n",
    "    fig, ax = plt.subplots(figsize=(10, 5))\n",
    "\n",
    "    # Loop through Thai and English data\n",
    "    for i, (val, color, label) in enumerate(zip(values, colors, labels)):\n",
    "        bars = ax.bar(x + (i - 0.5) * bar_width, val, width=bar_width, color=color, edgecolor='black', label=label)\n",
    "\n",
    "        for bar in bars:\n",
    "            height = bar.get_height()\n",
    "            ax.annotate(f'{height:.1f}', xy=(bar.get_x() + bar.get_width() / 2, height), xytext=(0, 5), textcoords=\"offset points\",\n",
    "                        ha='center', va='bottom', fontsize=10, fontweight='light')\n",
    "\n",
    "    # X-axis settings\n",
    "    ax.set_xticks(x)\n",
    "    ax.set_xticklabels(len_values.astype(int))\n",
    "    ax.set_xlabel(\"Word Length\")\n",
    "    ax.set_ylabel(\"Proportion of Correct Responses (%)\")\n",
    "    ax.set_title(title)\n",
    "    ax.set_ylim(0,110)\n",
    "    # Add legend\n",
    "    ax.legend(loc = 'upper right')\n",
    "\n",
    "    # Show plot\n",
    "    plt.savefig(dir)\n"
   ]
  },
  {
   "cell_type": "code",
   "execution_count": 222,
   "metadata": {},
   "outputs": [
    {
     "data": {
      "image/png": "[encoded data removed]",
      "text/plain": [
       "<Figure size 1000x500 with 1 Axes>"
      ]
     },
     "metadata": {},
     "output_type": "display_data"
    }
   ],
   "source": [
    "III_plot_grouped_proportion(imgordth,imgorden,f\"./figure/{username} III percent by len TH-EN.png\",\"Proportion of correct responses by word length: Thai-English\")"
   ]
  },
  {
   "cell_type": "markdown",
   "metadata": {},
   "source": [
    "# plot image and word accuracy\n",
    "plot both accuracy of the task order that word shown match the image and word shown is not matched with the image"
   ]
  },
  {
   "cell_type": "code",
   "execution_count": 20,
   "metadata": {},
   "outputs": [],
   "source": [
    "\n",
    "\n",
    "def III_plot_image_accuracy(df, title=\"Image Accuracy\", save_path=None):\n",
    "    \"\"\"\n",
    "    Plots the correct and incorrect image accuracy as a bar chart.\n",
    "\n",
    "    Parameters:\n",
    "    df (pd.DataFrame): DataFrame containing 'truestate' (0 or 1) and 'key' ('z' or 'x') columns.\n",
    "    title (str): Title of the plot.\n",
    "    save_path (str, optional): File path to save the figure. If None, the plot is shown instead.\n",
    "    \"\"\"\n",
    "    # Calculate correct image accuracy\n",
    "    correct_total = df[df['truestate'] == 1].shape[0]\n",
    "    correct_match = df[(df['truestate'] == 1) & (df['key'] == 'z')].shape[0]\n",
    "    correct_accuracy = (correct_match / correct_total) * 100 if correct_total else 0\n",
    "\n",
    "    # Calculate incorrect image accuracy\n",
    "    incorrect_total = df[df['truestate'] == 0].shape[0]\n",
    "    incorrect_match = df[(df['truestate'] == 0) & (df['key'] == 'x')].shape[0]\n",
    "    incorrect_accuracy = (incorrect_match / incorrect_total) * 100 if incorrect_total else 0\n",
    "\n",
    "    # Bar chart data\n",
    "    categories = ['Correct Image Accuracy', 'Incorrect Image Accuracy']\n",
    "    values = [correct_accuracy, incorrect_accuracy]\n",
    "\n",
    "    # Plot\n",
    "    plt.figure(figsize=(6, 7))\n",
    "    bars = plt.bar(categories, values, color=[colcorrect, colincorrect], width=0.5, edgecolor = 'black')\n",
    "    plt.ylabel('Accuracy (%)')\n",
    "    plt.title(title)\n",
    "    plt.ylim(0, 110)\n",
    "\n",
    "    # Add percentage labels on top of bars\n",
    "    for bar, value in zip(bars, values):\n",
    "        plt.text(bar.get_x() + bar.get_width()/2, bar.get_height() + 2, f'{value:.1f}%', \n",
    "                 ha='center', fontsize=10, fontweight='light')\n",
    "\n",
    "    # Save or show plot\n",
    "    if save_path:\n",
    "        plt.savefig(save_path, bbox_inches='tight', dpi=300)\n",
    "        print(f\"Plot saved to {save_path}\")\n",
    "    else:\n",
    "        plt.show()\n",
    "\n",
    "# Example usage\n",
    "data = {'truestate': [1, 0, 1, 1, 0, 0, 1, 0, 1, 1],\n",
    "        'key': ['z', 'x', 'z', 'x', 'x', 'z', 'z', 'x', 'z', 'x']}\n",
    "df = pd.DataFrame(data)\n"
   ]
  },
  {
   "cell_type": "code",
   "execution_count": 21,
   "metadata": {},
   "outputs": [
    {
     "name": "stdout",
     "output_type": "stream",
     "text": [
      "Plot saved to ./figure/YP III image truefalse All.png\n"
     ]
    },
    {
     "data": {
      "image/png": "[encoded data removed]",
      "text/plain": [
       "<Figure size 600x700 with 1 Axes>"
      ]
     },
     "metadata": {},
     "output_type": "display_data"
    }
   ],
   "source": [
    "III_plot_image_accuracy(imgordall, \"word-image accuracy: All word\", f\"./figure/{username} III image truefalse All.png\")"
   ]
  },
  {
   "cell_type": "markdown",
   "metadata": {},
   "source": [
    "#  grouped bar chart with the correct and incorrect image accuracy, both language"
   ]
  },
  {
   "cell_type": "code",
   "execution_count": 225,
   "metadata": {},
   "outputs": [],
   "source": [
    "def III_accuracy_group(df1, df2, title=\"Image Accuracy\", save_path=None):\n",
    "    \"\"\"\n",
    "    Plots a grouped bar chart with the correct and incorrect image accuracy for two dataframes.\n",
    "\n",
    "    Parameters:\n",
    "    df1 (pd.DataFrame): First DataFrame containing 'truestate' (0 or 1) and 'key' ('z' or 'x') columns.\n",
    "    df2 (pd.DataFrame): Second DataFrame containing 'truestate' (0 or 1) and 'key' ('z' or 'x') columns.\n",
    "    title (str): Title of the plot.\n",
    "    save_path (str, optional): File path to save the figure. If None, the plot is shown instead.\n",
    "    \"\"\"\n",
    "    # Calculate correct image accuracy for df1\n",
    "    correct_total_1 = df1[df1['truestate'] == 1].shape[0]\n",
    "    correct_match_1 = df1[(df1['truestate'] == 1) & (df1['key'] == 'z')].shape[0]\n",
    "    correct_accuracy_1 = (correct_match_1 / correct_total_1) * 100 if correct_total_1 else 0\n",
    "\n",
    "    # Calculate incorrect image accuracy for df1\n",
    "    incorrect_total_1 = df1[df1['truestate'] == 0].shape[0]\n",
    "    incorrect_match_1 = df1[(df1['truestate'] == 0) & (df1['key'] == 'x')].shape[0]\n",
    "    incorrect_accuracy_1 = (incorrect_match_1 / incorrect_total_1) * 100 if incorrect_total_1 else 0\n",
    "\n",
    "    # Calculate correct image accuracy for df2\n",
    "    correct_total_2 = df2[df2['truestate'] == 1].shape[0]\n",
    "    correct_match_2 = df2[(df2['truestate'] == 1) & (df2['key'] == 'z')].shape[0]\n",
    "    correct_accuracy_2 = (correct_match_2 / correct_total_2) * 100 if correct_total_2 else 0\n",
    "\n",
    "    # Calculate incorrect image accuracy for df2\n",
    "    incorrect_total_2 = df2[df2['truestate'] == 0].shape[0]\n",
    "    incorrect_match_2 = df2[(df2['truestate'] == 0) & (df2['key'] == 'x')].shape[0]\n",
    "    incorrect_accuracy_2 = (incorrect_match_2 / incorrect_total_2) * 100 if incorrect_total_2 else 0\n",
    "\n",
    "    # Bar chart data\n",
    "    categories = ['Correct Image Accuracy', 'Incorrect Image Accuracy']\n",
    "    values_1 = [correct_accuracy_1, incorrect_accuracy_1]\n",
    "    values_2 = [correct_accuracy_2, incorrect_accuracy_2]\n",
    "\n",
    "    # Plot\n",
    "    width = 0.35  # Width of bars\n",
    "    fig, ax = plt.subplots(figsize=(8, 6))\n",
    "\n",
    "    # Grouped bar plot\n",
    "    ax.bar([x - width/2 for x in range(len(categories))], values_1, width, label='Thai', color=bluegradient[4], edgecolor = 'black')\n",
    "    ax.bar([x + width/2 for x in range(len(categories))], values_2, width, label='English', color=redgradient[4], edgecolor = 'black')\n",
    "\n",
    "    # Labels, title, and axis limits\n",
    "    ax.set_ylabel('Accuracy (%)')\n",
    "    ax.set_title(title)\n",
    "    ax.set_xticks(range(len(categories)))\n",
    "    ax.set_xticklabels(categories)\n",
    "    ax.set_ylim(0, 110)\n",
    "    \n",
    "    # Add percentage labels on top of bars\n",
    "    for i, (value_1, value_2) in enumerate(zip(values_1, values_2)):\n",
    "        ax.text(i - width/2, value_1 + 2, f'{value_1:.1f}%', ha='center', fontsize=10, fontweight='light')\n",
    "        ax.text(i + width/2, value_2 + 2, f'{value_2:.1f}%', ha='center', fontsize=10, fontweight='light')\n",
    "\n",
    "    # Add legend\n",
    "    ax.legend()\n",
    "\n",
    "    # Save or show plot\n",
    "    if save_path:\n",
    "        plt.savefig(save_path, bbox_inches='tight', dpi=300)\n",
    "        print(f\"Plot saved to {save_path}\")\n",
    "    else:\n",
    "        plt.show()"
   ]
  },
  {
   "cell_type": "code",
   "execution_count": 226,
   "metadata": {},
   "outputs": [
    {
     "name": "stdout",
     "output_type": "stream",
     "text": [
      "Plot saved to ./figure/YP III image truefalse TH-EN.png\n"
     ]
    },
    {
     "data": {
      "image/png": "[encoded data removed]",
      "text/plain": [
       "<Figure size 800x600 with 1 Axes>"
      ]
     },
     "metadata": {},
     "output_type": "display_data"
    }
   ],
   "source": [
    "III_accuracy_group(imgordth, imgorden, \"Word-image accuracy: Thai-English\",f\"./figure/{username} III image truefalse TH-EN.png\")"
   ]
  },
  {
   "cell_type": "markdown",
   "metadata": {},
   "source": [
    "# Reaction time part\n",
    "---"
   ]
  },
  {
   "cell_type": "markdown",
   "metadata": {},
   "source": [
    "## Overall reaction time in both histogram and boxplot"
   ]
  },
  {
   "cell_type": "code",
   "execution_count": 44,
   "metadata": {},
   "outputs": [],
   "source": [
    "import matplotlib.font_manager as fm\n",
    "thai_font_path=\"./THSarabun.ttf\"\n",
    "def III_plot_RT_outliers(inidf, lang,  title=\"Reaction Time Choosing Image Appear\", save_path=None):\n",
    "\n",
    "\n",
    "    df = inidf[inidf['score'] == 1]\n",
    "    if 'key_RT' not in df or 'word shown' not in df:\n",
    "        raise ValueError(\"The DataFrame must contain 'key_RT' and 'word shown' columns.\")\n",
    "\n",
    "    # Calculate outlier thresholds using IQR method\n",
    "    Q1 = df['key_RT'].quantile(0.25)\n",
    "    Q3 = df['key_RT'].quantile(0.75)\n",
    "    IQR = Q3 - Q1\n",
    "    lower_bound = Q1 - 1.5 * IQR\n",
    "    upper_bound = Q3 + 1.5 * IQR\n",
    "\n",
    "    # Find outliers\n",
    "    outliers = df[(df['key_RT'] < lower_bound) | (df['key_RT'] > upper_bound)]\n",
    "    outliers.sort_values(by=['key_RT'], inplace = True)\n",
    "\n",
    "    num_bins = 16\n",
    "\n",
    "    # Create the plot\n",
    "    fig, axes = plt.subplots(nrows=2, ncols=1, figsize=(10, 6), gridspec_kw={'height_ratios': [1, 3]})\n",
    "\n",
    "    # Boxplot (Top)\n",
    "    sns.boxplot(data=df, x='key_RT', ax=axes[0], color='lightgray')\n",
    "    axes[0].set_title(title)\n",
    "    axes[0].set_xlabel('')\n",
    "    axes[0].set_xlim(0,15)\n",
    "    # Annotate outliers with the corresponding 'word shown' using the Thai font if provided\n",
    "    prop = fm.FontProperties(fname=thai_font_path)\n",
    "    i = 0\n",
    "    for outlier_value, word in zip(outliers['key_RT'], outliers['word shown']):\n",
    "        yax = 0 + 0.25 * ((-1) ** i)\n",
    "        axes[0].text(outlier_value, yax, word, fontsize=10, ha='center', va = 'center',color='black', fontweight='light', rotation=90, fontproperties=prop)\n",
    "        i = i + 1\n",
    "# \n",
    "    # axes[0].set_yticks([])  # Hide y-axis ticks\n",
    "    # axes[0].set_xlabel(\"\")  # Remove x-axis label\n",
    "\n",
    "    # Histogram (Bottom)\n",
    "    colorchoice = bluegradient[4] if lang == 'th' else redgradient[4] if lang == 'en' else gaygradient[4] \n",
    "    axes[1].hist(df['key_RT'], bins=num_bins,range = (0,16) ,color=colorchoice, alpha=0.7, edgecolor='black')\n",
    "    axes[1].set_title('')\n",
    "    axes[1].set_xlabel(\"Reaction Time (s)\")\n",
    "    axes[1].set_ylabel(\"Frequency\")\n",
    "    axes[1].set_xticks(np.arange(0,16,1))\n",
    "    axes[1].set_xlim(0,15)\n",
    "    axes[1].set_ylim(0,65)\n",
    "\n",
    "    # Save the plot if save_path is provided\n",
    "    if save_path:\n",
    "        plt.savefig(save_path, bbox_inches='tight', dpi=300)\n",
    "        print(f\"Plot saved to {save_path}\")\n",
    "\n",
    "    plt.close()  # Prevent displaying the plot\n",
    "\n"
   ]
  },
  {
   "cell_type": "code",
   "execution_count": 45,
   "metadata": {},
   "outputs": [
    {
     "name": "stderr",
     "output_type": "stream",
     "text": [
      "C:\\Users\\PH\\AppData\\Local\\Temp\\ipykernel_16544\\1657169442.py:19: SettingWithCopyWarning: \n",
      "A value is trying to be set on a copy of a slice from a DataFrame\n",
      "\n",
      "See the caveats in the documentation: https://pandas.pydata.org/pandas-docs/stable/user_guide/indexing.html#returning-a-view-versus-a-copy\n",
      "  outliers.sort_values(by=['key_RT'], inplace = True)\n"
     ]
    },
    {
     "name": "stdout",
     "output_type": "stream",
     "text": [
      "Plot saved to ./figure/YP III RT hist english.png\n"
     ]
    },
    {
     "name": "stderr",
     "output_type": "stream",
     "text": [
      "C:\\Users\\PH\\AppData\\Local\\Temp\\ipykernel_16544\\1657169442.py:19: SettingWithCopyWarning: \n",
      "A value is trying to be set on a copy of a slice from a DataFrame\n",
      "\n",
      "See the caveats in the documentation: https://pandas.pydata.org/pandas-docs/stable/user_guide/indexing.html#returning-a-view-versus-a-copy\n",
      "  outliers.sort_values(by=['key_RT'], inplace = True)\n"
     ]
    },
    {
     "name": "stdout",
     "output_type": "stream",
     "text": [
      "Plot saved to ./figure/YP III RT hist thai.png\n"
     ]
    },
    {
     "name": "stderr",
     "output_type": "stream",
     "text": [
      "C:\\Users\\PH\\AppData\\Local\\Temp\\ipykernel_16544\\1657169442.py:19: SettingWithCopyWarning: \n",
      "A value is trying to be set on a copy of a slice from a DataFrame\n",
      "\n",
      "See the caveats in the documentation: https://pandas.pydata.org/pandas-docs/stable/user_guide/indexing.html#returning-a-view-versus-a-copy\n",
      "  outliers.sort_values(by=['key_RT'], inplace = True)\n"
     ]
    },
    {
     "name": "stdout",
     "output_type": "stream",
     "text": [
      "Plot saved to ./figure/YP III RT hist all.png\n"
     ]
    }
   ],
   "source": [
    "\n",
    "\n",
    "III_plot_RT_outliers(imgorden, 'en', \"boxplot and histogram of reaction time english word\", f\"./figure/{username} III RT hist english.png\" )\n",
    "III_plot_RT_outliers(imgordth,'th' ,\"boxplot and histogram of reaction time: thai word\", f\"./figure/{username} III RT hist thai.png\")\n",
    "III_plot_RT_outliers(imgordall, 'all',\"boxplot and histogram of reaction time: all word\", f\"./figure/{username} III RT hist all.png\")\n"
   ]
  },
  {
   "cell_type": "markdown",
   "metadata": {},
   "source": [
    "# Reaction time by word image match state\n",
    "plot a bar chart between reaction time (s) mean by the truestate of the task"
   ]
  },
  {
   "cell_type": "code",
   "execution_count": 63,
   "metadata": {},
   "outputs": [],
   "source": [
    "def III_plot_RTgroup_by_state(df1, df2, title, save_dir):\n",
    "  # Add a 'source' column to each dataframe to differentiate the datasets\n",
    "    df1['source'], df2['source'] = 'Dataset 1', 'Dataset 2'\n",
    "    combined_df = pd.concat([df1, df2])\n",
    "\n",
    "    # Calculate means and errors by grouping by 'truestate' and 'source'\n",
    "    means = combined_df.groupby(['source', 'truestate'])['key_RT'].mean().unstack()\n",
    "    errors = combined_df.groupby(['source', 'truestate'])['key_RT'].sem().unstack()\n",
    "\n",
    "    # Create a new dataframe to hold means for both datasets (Dataset 1, Dataset 2)\n",
    "    penguin_means = {\n",
    "        'Dataset 1': means.loc['Dataset 1'],  # Means from df1 for each truestate\n",
    "        'Dataset 2': means.loc['Dataset 2'],  # Means from df2 for each truestate\n",
    "    }\n",
    "\n",
    "    # Set the x-axis and width for bar positioning\n",
    "    x = np.arange(len(penguin_means['Dataset 1']))  # Locations for truestate 0 and 1\n",
    "    width = 0.35  # the width of the bars\n",
    "    multiplier = 0\n",
    "\n",
    "    fig, ax = plt.subplots(figsize=(6, 6))  # Specify figure size\n",
    "\n",
    "    # Plot bars for each dataset (Dataset 1 and Dataset 2)\n",
    "    for dataset, measurement in penguin_means.items():\n",
    "        colorchoice = bluegradient[4] if multiplier == 0 else redgradient[4] \n",
    "        offset = width * multiplier  # Offset bars to create grouped effect\n",
    "        rects = ax.bar(x + offset, round(measurement,2), width, label=dataset, yerr=errors.loc[dataset], color = colorchoice, capsize=5, edgecolor = \"black\")\n",
    "        ax.bar_label(rects, padding=3)\n",
    "        multiplier += 1\n",
    "\n",
    "    # Add labels, title, and customize the x-axis ticks\n",
    "    ax.set_ylabel('Reaction Time (s)')\n",
    "    ax.set_title(title)\n",
    "    ax.set_xticks(x + width / 2, ['Image word mismatched', 'Image word matched'])\n",
    "    ax.legend(\n",
    "      labels=['Thai', 'English'],  # Custom labels\n",
    "      title='Language',            # Customize the title of the legend\n",
    "      loc='upper center',               # Location of the legend\n",
    "      fontsize=12,                      # Font size for legend labels\n",
    "      ncol=2,                           # Number of columns for the legend\n",
    "      bbox_to_anchor=(0.5, 1)       # Position the legend below the plot\n",
    "    )\n",
    "\n",
    "    # Customize y-axis limits if needed\n",
    "    ax.set_ylim(0, 6)\n",
    "\n",
    "    # Save the plot to the specified directory\n",
    "    plt.xlabel('match state')\n",
    "    plt.savefig(save_dir)\n",
    "    plt.close()\n"
   ]
  },
  {
   "cell_type": "code",
   "execution_count": 69,
   "metadata": {},
   "outputs": [],
   "source": [
    "III_plot_RTgroup_by_state(imgordth, imgorden, \"Reaction time by word image state: Thai-English\", f\"./figure/{username} III RT by state EN-TH.png\")"
   ]
  },
  {
   "cell_type": "markdown",
   "metadata": {},
   "source": [
    "# Reaction time by word image match state both language\n",
    "plot a grouped bar chart between reaction time (s) mean by the truestate of the task, both thai and english next to each other"
   ]
  },
  {
   "cell_type": "code",
   "execution_count": 61,
   "metadata": {},
   "outputs": [],
   "source": [
    "def III_plot_RT_with_error_bars(df, title, save_dir):\n",
    "\n",
    "     # Calculate means and errors by grouping by 'truestate'\n",
    "    means = df.groupby('truestate')['key_RT'].mean()\n",
    "    errors = df.groupby('truestate')['key_RT'].sem()\n",
    "\n",
    "    # Define labels for truestates\n",
    "    labels = {0: 'word image mismatched', 1: 'word image matched'}\n",
    "\n",
    "    # Set the figure size (adjust accordingly)\n",
    "    plt.figure(figsize=(4, 6))  # Change the width and height here\n",
    "\n",
    "    # Set bar width to scale with figure size\n",
    "    bar_width = 0.4  # Adjust the bar width to fit within the plot's space\n",
    "\n",
    "    # Bar plot with error bars\n",
    "    bars = plt.bar(means.index, means, yerr=errors, capsize=5, width=bar_width, color=[colincorrect, colcorrect], edgecolor = 'black')\n",
    "\n",
    "    # Add the mean label on top of the bars\n",
    "    for i, bar in enumerate(bars):\n",
    "        height = bar.get_height()\n",
    "        error = errors.iloc[i]  # Get the error for this specific bar\n",
    "        # Place the text slightly above the bar and its error\n",
    "        plt.text(bar.get_x() + bar.get_width() / 2, height + error + 0.05, f'{height:.2f}', ha='center', va='bottom', fontsize=12)\n",
    "\n",
    "    # Set custom x-ticks and labels\n",
    "    plt.xticks(means.index, [labels[i] for i in means.index])\n",
    "\n",
    "    # Labels and title\n",
    "    plt.xlabel('match state')\n",
    "    plt.ylabel('Reaction Time (s)')\n",
    "    plt.title(title)\n",
    "    plt.ylim(0,6)\n",
    "\n",
    "    # Save the plot to the specified directory\n",
    "    plt.tight_layout()\n",
    "    plt.savefig(save_dir)\n",
    "    plt.close()\n",
    "\n"
   ]
  },
  {
   "cell_type": "code",
   "execution_count": 62,
   "metadata": {},
   "outputs": [],
   "source": [
    "III_plot_RT_with_error_bars(imgordall, \"Reaction time by word image state: Overall\", f\"./figure/{username} III RT by state all.png\")"
   ]
  },
  {
   "cell_type": "markdown",
   "metadata": {},
   "source": [
    "# Reaction time byword length\n",
    "plot a bar chart between reaction time (s) mean by the word length"
   ]
  },
  {
   "cell_type": "code",
   "execution_count": 67,
   "metadata": {},
   "outputs": [],
   "source": [
    "def III_plot_rt_by_len(dataframe, titles, save_directory):\n",
    "    # Calculate means and standard errors\n",
    "    means = dataframe.groupby('len')['key_RT'].mean()\n",
    "    stderr = dataframe.groupby('len')['key_RT'].std() / np.sqrt(dataframe.groupby('len')['key_RT'].count())\n",
    "    \n",
    "    # Prepare data for plotting\n",
    "    word_lengths = np.arange(3, 8)  # Word length from 3 to 7\n",
    "    rt_means = means[word_lengths]\n",
    "    rt_stderr = stderr[word_lengths]\n",
    "    \n",
    "    # Create the bar plot with error bars\n",
    "    fig, ax = plt.subplots(figsize=(10, 6))\n",
    "    bars = ax.bar(word_lengths, rt_means, yerr=rt_stderr, capsize=5, color=gaygradient, edgecolor='black', alpha=0.7, width=0.5)\n",
    "\n",
    "    # Add data labels on top of the bars\n",
    "    for bar in bars:\n",
    "        height = bar.get_height()\n",
    "        ax.text(bar.get_x() + bar.get_width() / 2, height + 0.35, f'{height:.2f}', \n",
    "                ha='center', va='bottom', fontsize=10, color='black')\n",
    "    \n",
    "    # Set plot titles and labels\n",
    "    ax.set_title(titles, fontsize=14)\n",
    "    ax.set_xlabel('Word Length (letters)', fontsize=12)\n",
    "    ax.set_ylabel('Mean Response Time (seconds)', fontsize=12)\n",
    "    ax.set_xticks(word_lengths)\n",
    "    ax.set_xticklabels(word_lengths)\n",
    "    ax.set_ylim(0,5.5)\n",
    "    \n",
    "    # Save the plot\n",
    "    save_path = save_directory\n",
    "    plt.savefig(save_path)\n",
    "    plt.close()\n",
    "    print(f\"Plot saved at: {save_path}\")"
   ]
  },
  {
   "cell_type": "code",
   "execution_count": 68,
   "metadata": {},
   "outputs": [
    {
     "name": "stdout",
     "output_type": "stream",
     "text": [
      "Plot saved at: ./figure/YP III RT by len all.png\n"
     ]
    }
   ],
   "source": [
    "III_plot_rt_by_len(imgordall, \"Reaction time by word length: overall\", f\"./figure/{username} III RT by len all.png\") "
   ]
  },
  {
   "cell_type": "markdown",
   "metadata": {},
   "source": [
    "# Reaction time by word length, both language\n",
    "plot a bar chart between reaction time (s) mean by the truestate of the task"
   ]
  },
  {
   "cell_type": "code",
   "execution_count": 235,
   "metadata": {},
   "outputs": [],
   "source": [
    "def III_plot_rt_by_len_group(df1, df2, title, save_dir):\n",
    "    # Calculate means and standard errors for both dataframes\n",
    "    means1 = df1.groupby('len')['key_RT'].mean()\n",
    "    stderr1 = df1.groupby('len')['key_RT'].sem()\n",
    "\n",
    "    means2 = df2.groupby('len')['key_RT'].mean()\n",
    "    stderr2 = df2.groupby('len')['key_RT'].sem()\n",
    "\n",
    "    # Word lengths from 3 to 7\n",
    "    word_lengths = np.arange(3, 8)\n",
    "    \n",
    "    # Prepare means and errors for both dataframes\n",
    "    rt_means1 = means1[word_lengths]\n",
    "    rt_stderr1 = stderr1[word_lengths]\n",
    "    \n",
    "    rt_means2 = means2[word_lengths]\n",
    "    rt_stderr2 = stderr2[word_lengths]\n",
    "    \n",
    "    # Set the figure size and bar width\n",
    "    plt.figure(figsize=(10, 6))  # Adjust the width and height here\n",
    "    bar_width = 0.35  # Bar width to scale with the figure size\n",
    "\n",
    "    # Create grouped bar plot with error bars\n",
    "    bars1 = plt.bar(word_lengths - bar_width / 2, rt_means1, yerr=rt_stderr1, capsize=5, width=bar_width, color=bluegradient, label='Thai', edgecolor = 'black')\n",
    "    bars2 = plt.bar(word_lengths + bar_width / 2, rt_means2, yerr=rt_stderr2, capsize=5, width=bar_width, color=redgradient, label='English', edgecolor = 'black')\n",
    "\n",
    "    # Add the mean label on top of the bars\n",
    "    for i, bar in enumerate(bars1):\n",
    "        height = bar.get_height()\n",
    "        error = rt_stderr1.iloc[i]  # Get the error for this specific bar\n",
    "        plt.text(bar.get_x() + bar.get_width() / 2, height + error + 0.02, f'{height:.2f}', ha='center', va='bottom', fontsize=10, color='black')\n",
    "    for i, bar in enumerate(bars2):\n",
    "        height = bar.get_height()\n",
    "        error = rt_stderr2.iloc[i]  # Get the error for this specific bar\n",
    "        plt.text(bar.get_x() + bar.get_width() / 2, height + error + 0.02, f'{height:.2f}', ha='center', va='bottom', fontsize=10, color='black')\n",
    "\n",
    "    # Labels and title\n",
    "    plt.xlabel('Word Length (letters)')\n",
    "    plt.ylabel('Mean Response Time (seconds)')\n",
    "    plt.title(title)\n",
    "    plt.xticks(word_lengths)\n",
    "    plt.legend(title = \"Language\")\n",
    "\n",
    "    # Save the plot to the specified directory\n",
    "    plt.tight_layout()\n",
    "    plt.savefig(save_dir)\n",
    "    plt.close()"
   ]
  },
  {
   "cell_type": "code",
   "execution_count": 236,
   "metadata": {},
   "outputs": [],
   "source": [
    "III_plot_rt_by_len_group(imgordth, imgorden, \"Reaction time by word length: Thai and English\", f\"./figure/{username} III RT by len EN-TH.png\")"
   ]
  }
 ],
 "metadata": {
  "kernelspec": {
   "display_name": "Python 3",
   "language": "python",
   "name": "python3"
  },
  "language_info": {
   "codemirror_mode": {
    "name": "ipython",
    "version": 3
   },
   "file_extension": ".py",
   "mimetype": "text/x-python",
   "name": "python",
   "nbconvert_exporter": "python",
   "pygments_lexer": "ipython3",
   "version": "3.10.11"
  }
 },
 "nbformat": 4,
 "nbformat_minor": 2
}
