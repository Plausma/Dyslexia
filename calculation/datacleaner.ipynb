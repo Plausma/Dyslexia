{
 "cells": [
  {
   "cell_type": "code",
   "execution_count": 2,
   "metadata": {},
   "outputs": [],
   "source": [
    "from tkinter import Tk     \n",
    "from tkinter.filedialog import askopenfilename\n",
    "import pandas as pd\n",
    "\n",
    "Tk().withdraw() # we don't want a full GUI, so keep the root window from appearing\n",
    "datafile = askopenfilename(title=\"Choose the data file from the experiment\")\n",
    "rawdf = pd.read_csv(datafile)\n",
    "\n",
    "cutdf = rawdf.iloc[1:][[\"id\", \"side\", \"falseword\",\"trials.key_resp.keys\"]]"
   ]
  },
  {
   "cell_type": "code",
   "execution_count": 72,
   "metadata": {},
   "outputs": [
    {
     "data": {
      "application/vnd.microsoft.datawrangler.viewer.v0+json": {
       "columns": [
        {
         "name": "index",
         "rawType": "int64",
         "type": "integer"
        },
        {
         "name": "id",
         "rawType": "float64",
         "type": "float"
        },
        {
         "name": "side",
         "rawType": "float64",
         "type": "float"
        },
        {
         "name": "falseword",
         "rawType": "float64",
         "type": "float"
        },
        {
         "name": "thisN",
         "rawType": "float64",
         "type": "float"
        },
        {
         "name": "thisTrialN",
         "rawType": "float64",
         "type": "float"
        },
        {
         "name": "thisRepN",
         "rawType": "float64",
         "type": "float"
        },
        {
         "name": "key_resp.keys",
         "rawType": "object",
         "type": "unknown"
        },
        {
         "name": "key_resp.rt",
         "rawType": "float64",
         "type": "float"
        },
        {
         "name": "key_resp.duration",
         "rawType": "float64",
         "type": "float"
        },
        {
         "name": "trials.thisRepN",
         "rawType": "float64",
         "type": "float"
        },
        {
         "name": "trials.thisTrialN",
         "rawType": "float64",
         "type": "float"
        },
        {
         "name": "trials.thisN",
         "rawType": "float64",
         "type": "float"
        },
        {
         "name": "trials.thisIndex",
         "rawType": "float64",
         "type": "float"
        },
        {
         "name": "thisRow.t",
         "rawType": "float64",
         "type": "float"
        },
        {
         "name": "notes",
         "rawType": "float64",
         "type": "float"
        },
        {
         "name": "tutorial.started",
         "rawType": "float64",
         "type": "float"
        },
        {
         "name": "key_instruct.started",
         "rawType": "float64",
         "type": "float"
        },
        {
         "name": "tutorial.stopped",
         "rawType": "float64",
         "type": "float"
        },
        {
         "name": "key_instruct.keys",
         "rawType": "object",
         "type": "unknown"
        },
        {
         "name": "key_instruct.rt",
         "rawType": "float64",
         "type": "float"
        },
        {
         "name": "key_instruct.duration",
         "rawType": "float64",
         "type": "float"
        },
        {
         "name": "image_2.started",
         "rawType": "float64",
         "type": "float"
        },
        {
         "name": "image_2.stopped",
         "rawType": "float64",
         "type": "float"
        },
        {
         "name": "wordselect.started",
         "rawType": "float64",
         "type": "float"
        },
        {
         "name": "key_resp.started",
         "rawType": "float64",
         "type": "float"
        },
        {
         "name": "wordselect.stopped",
         "rawType": "float64",
         "type": "float"
        },
        {
         "name": "trials.key_resp.keys",
         "rawType": "object",
         "type": "unknown"
        },
        {
         "name": "trials.key_resp.rt",
         "rawType": "float64",
         "type": "float"
        },
        {
         "name": "trials.key_resp.duration",
         "rawType": "float64",
         "type": "float"
        },
        {
         "name": "participant",
         "rawType": "float64",
         "type": "float"
        },
        {
         "name": "session",
         "rawType": "float64",
         "type": "float"
        },
        {
         "name": "date",
         "rawType": "object",
         "type": "unknown"
        },
        {
         "name": "expName",
         "rawType": "object",
         "type": "unknown"
        },
        {
         "name": "psychopyVersion",
         "rawType": "object",
         "type": "unknown"
        },
        {
         "name": "frameRate",
         "rawType": "float64",
         "type": "float"
        },
        {
         "name": "expStart",
         "rawType": "object",
         "type": "unknown"
        },
        {
         "name": "Unnamed: 36",
         "rawType": "float64",
         "type": "float"
        }
       ],
       "conversionMethod": "pd.DataFrame",
       "ref": "899a6401-4060-46d0-83b2-585e636ff2c5",
       "rows": [
        [
         "0",
         null,
         null,
         null,
         null,
         null,
         null,
         null,
         null,
         null,
         null,
         null,
         null,
         null,
         null,
         null,
         "0.0041192000498995",
         "0.0248555999714881",
         "2.926410399959422",
         "space",
         "2.897896199952811",
         null,
         null,
         null,
         null,
         null,
         null,
         null,
         null,
         null,
         "273615.0",
         "1.0",
         "2025-02-22_16h57.29.111",
         "MainFlow",
         "2024.2.4",
         "144.1364568853071",
         "2025-02-22 16h57.32.277461 +0700",
         null
        ],
        [
         "1",
         "9.0",
         "1.0",
         "4.0",
         "0.0",
         "0.0",
         "0.0",
         "z",
         "1.499097099993378",
         null,
         "0.0",
         "0.0",
         "0.0",
         "223.0",
         "3.124646099982783",
         null,
         null,
         null,
         null,
         null,
         null,
         null,
         "3.917564600007609",
         "4.960618000011891",
         "4.953511300031096",
         "6.920527699985541",
         "8.42267510003876",
         "z",
         "1.499097099993378",
         null,
         "273615.0",
         "1.0",
         "2025-02-22_16h57.29.111",
         "MainFlow",
         "2024.2.4",
         "144.1364568853071",
         "2025-02-22 16h57.32.277461 +0700",
         null
        ],
        [
         "2",
         "33.0",
         "1.0",
         "4.0",
         "1.0",
         "1.0",
         "0.0",
         null,
         null,
         null,
         "0.0",
         "1.0",
         "1.0",
         "201.0",
         "8.533065799972974",
         null,
         null,
         null,
         null,
         null,
         null,
         null,
         "9.415873100049794",
         "10.430822300026191",
         "10.423589500016533",
         "12.412148399977012",
         null,
         null,
         null,
         null,
         null,
         null,
         null,
         null,
         null,
         null,
         null,
         null
        ]
       ],
       "shape": {
        "columns": 37,
        "rows": 3
       }
      },
      "text/html": [
       "<div>\n",
       "<style scoped>\n",
       "    .dataframe tbody tr th:only-of-type {\n",
       "        vertical-align: middle;\n",
       "    }\n",
       "\n",
       "    .dataframe tbody tr th {\n",
       "        vertical-align: top;\n",
       "    }\n",
       "\n",
       "    .dataframe thead th {\n",
       "        text-align: right;\n",
       "    }\n",
       "</style>\n",
       "<table border=\"1\" class=\"dataframe\">\n",
       "  <thead>\n",
       "    <tr style=\"text-align: right;\">\n",
       "      <th></th>\n",
       "      <th>id</th>\n",
       "      <th>side</th>\n",
       "      <th>falseword</th>\n",
       "      <th>thisN</th>\n",
       "      <th>thisTrialN</th>\n",
       "      <th>thisRepN</th>\n",
       "      <th>key_resp.keys</th>\n",
       "      <th>key_resp.rt</th>\n",
       "      <th>key_resp.duration</th>\n",
       "      <th>trials.thisRepN</th>\n",
       "      <th>...</th>\n",
       "      <th>trials.key_resp.rt</th>\n",
       "      <th>trials.key_resp.duration</th>\n",
       "      <th>participant</th>\n",
       "      <th>session</th>\n",
       "      <th>date</th>\n",
       "      <th>expName</th>\n",
       "      <th>psychopyVersion</th>\n",
       "      <th>frameRate</th>\n",
       "      <th>expStart</th>\n",
       "      <th>Unnamed: 36</th>\n",
       "    </tr>\n",
       "  </thead>\n",
       "  <tbody>\n",
       "    <tr>\n",
       "      <th>0</th>\n",
       "      <td>NaN</td>\n",
       "      <td>NaN</td>\n",
       "      <td>NaN</td>\n",
       "      <td>NaN</td>\n",
       "      <td>NaN</td>\n",
       "      <td>NaN</td>\n",
       "      <td>NaN</td>\n",
       "      <td>NaN</td>\n",
       "      <td>NaN</td>\n",
       "      <td>NaN</td>\n",
       "      <td>...</td>\n",
       "      <td>NaN</td>\n",
       "      <td>NaN</td>\n",
       "      <td>273615.0</td>\n",
       "      <td>1.0</td>\n",
       "      <td>2025-02-22_16h57.29.111</td>\n",
       "      <td>MainFlow</td>\n",
       "      <td>2024.2.4</td>\n",
       "      <td>144.136457</td>\n",
       "      <td>2025-02-22 16h57.32.277461 +0700</td>\n",
       "      <td>NaN</td>\n",
       "    </tr>\n",
       "    <tr>\n",
       "      <th>1</th>\n",
       "      <td>9.0</td>\n",
       "      <td>1.0</td>\n",
       "      <td>4.0</td>\n",
       "      <td>0.0</td>\n",
       "      <td>0.0</td>\n",
       "      <td>0.0</td>\n",
       "      <td>z</td>\n",
       "      <td>1.499097</td>\n",
       "      <td>NaN</td>\n",
       "      <td>0.0</td>\n",
       "      <td>...</td>\n",
       "      <td>1.499097</td>\n",
       "      <td>NaN</td>\n",
       "      <td>273615.0</td>\n",
       "      <td>1.0</td>\n",
       "      <td>2025-02-22_16h57.29.111</td>\n",
       "      <td>MainFlow</td>\n",
       "      <td>2024.2.4</td>\n",
       "      <td>144.136457</td>\n",
       "      <td>2025-02-22 16h57.32.277461 +0700</td>\n",
       "      <td>NaN</td>\n",
       "    </tr>\n",
       "    <tr>\n",
       "      <th>2</th>\n",
       "      <td>33.0</td>\n",
       "      <td>1.0</td>\n",
       "      <td>4.0</td>\n",
       "      <td>1.0</td>\n",
       "      <td>1.0</td>\n",
       "      <td>0.0</td>\n",
       "      <td>NaN</td>\n",
       "      <td>NaN</td>\n",
       "      <td>NaN</td>\n",
       "      <td>0.0</td>\n",
       "      <td>...</td>\n",
       "      <td>NaN</td>\n",
       "      <td>NaN</td>\n",
       "      <td>NaN</td>\n",
       "      <td>NaN</td>\n",
       "      <td>NaN</td>\n",
       "      <td>NaN</td>\n",
       "      <td>NaN</td>\n",
       "      <td>NaN</td>\n",
       "      <td>NaN</td>\n",
       "      <td>NaN</td>\n",
       "    </tr>\n",
       "  </tbody>\n",
       "</table>\n",
       "<p>3 rows × 37 columns</p>\n",
       "</div>"
      ],
      "text/plain": [
       "     id  side  falseword  thisN  thisTrialN  thisRepN key_resp.keys  \\\n",
       "0   NaN   NaN        NaN    NaN         NaN       NaN           NaN   \n",
       "1   9.0   1.0        4.0    0.0         0.0       0.0             z   \n",
       "2  33.0   1.0        4.0    1.0         1.0       0.0           NaN   \n",
       "\n",
       "   key_resp.rt  key_resp.duration  trials.thisRepN  ...  trials.key_resp.rt  \\\n",
       "0          NaN                NaN              NaN  ...                 NaN   \n",
       "1     1.499097                NaN              0.0  ...            1.499097   \n",
       "2          NaN                NaN              0.0  ...                 NaN   \n",
       "\n",
       "   trials.key_resp.duration  participant  session                     date  \\\n",
       "0                       NaN     273615.0      1.0  2025-02-22_16h57.29.111   \n",
       "1                       NaN     273615.0      1.0  2025-02-22_16h57.29.111   \n",
       "2                       NaN          NaN      NaN                      NaN   \n",
       "\n",
       "    expName  psychopyVersion   frameRate                          expStart  \\\n",
       "0  MainFlow         2024.2.4  144.136457  2025-02-22 16h57.32.277461 +0700   \n",
       "1  MainFlow         2024.2.4  144.136457  2025-02-22 16h57.32.277461 +0700   \n",
       "2       NaN              NaN         NaN                               NaN   \n",
       "\n",
       "   Unnamed: 36  \n",
       "0          NaN  \n",
       "1          NaN  \n",
       "2          NaN  \n",
       "\n",
       "[3 rows x 37 columns]"
      ]
     },
     "execution_count": 72,
     "metadata": {},
     "output_type": "execute_result"
    }
   ],
   "source": [
    "rawdf"
   ]
  },
  {
   "cell_type": "code",
   "execution_count": 73,
   "metadata": {},
   "outputs": [
    {
     "data": {
      "application/vnd.microsoft.datawrangler.viewer.v0+json": {
       "columns": [
        {
         "name": "index",
         "rawType": "int64",
         "type": "integer"
        },
        {
         "name": "id",
         "rawType": "float64",
         "type": "float"
        },
        {
         "name": "side",
         "rawType": "float64",
         "type": "float"
        },
        {
         "name": "falseword",
         "rawType": "float64",
         "type": "float"
        },
        {
         "name": "trials.key_resp.keys",
         "rawType": "object",
         "type": "unknown"
        }
       ],
       "conversionMethod": "pd.DataFrame",
       "ref": "5b9bccd8-4156-4ba0-90d2-cf90c3493570",
       "rows": [
        [
         "1",
         "9.0",
         "1.0",
         "4.0",
         "z"
        ],
        [
         "2",
         "33.0",
         "1.0",
         "4.0",
         null
        ]
       ],
       "shape": {
        "columns": 4,
        "rows": 2
       }
      },
      "text/html": [
       "<div>\n",
       "<style scoped>\n",
       "    .dataframe tbody tr th:only-of-type {\n",
       "        vertical-align: middle;\n",
       "    }\n",
       "\n",
       "    .dataframe tbody tr th {\n",
       "        vertical-align: top;\n",
       "    }\n",
       "\n",
       "    .dataframe thead th {\n",
       "        text-align: right;\n",
       "    }\n",
       "</style>\n",
       "<table border=\"1\" class=\"dataframe\">\n",
       "  <thead>\n",
       "    <tr style=\"text-align: right;\">\n",
       "      <th></th>\n",
       "      <th>id</th>\n",
       "      <th>side</th>\n",
       "      <th>falseword</th>\n",
       "      <th>trials.key_resp.keys</th>\n",
       "    </tr>\n",
       "  </thead>\n",
       "  <tbody>\n",
       "    <tr>\n",
       "      <th>1</th>\n",
       "      <td>9.0</td>\n",
       "      <td>1.0</td>\n",
       "      <td>4.0</td>\n",
       "      <td>z</td>\n",
       "    </tr>\n",
       "    <tr>\n",
       "      <th>2</th>\n",
       "      <td>33.0</td>\n",
       "      <td>1.0</td>\n",
       "      <td>4.0</td>\n",
       "      <td>NaN</td>\n",
       "    </tr>\n",
       "  </tbody>\n",
       "</table>\n",
       "</div>"
      ],
      "text/plain": [
       "     id  side  falseword trials.key_resp.keys\n",
       "1   9.0   1.0        4.0                    z\n",
       "2  33.0   1.0        4.0                  NaN"
      ]
     },
     "execution_count": 73,
     "metadata": {},
     "output_type": "execute_result"
    }
   ],
   "source": [
    "cutdf"
   ]
  },
  {
   "cell_type": "code",
   "execution_count": 5,
   "metadata": {},
   "outputs": [],
   "source": [
    "# create empty result table\n",
    "resultdf = pd.DataFrame(columns=[\"id\",\"len\", \"L-greek\",\"R-greek\",\"L-scramble\",\"R-scramble\",\"L-pseudo\",\"R-pseudo\"])\n",
    "resultdf[\"id\"] = [i+1 for i in range(40)]\n",
    "resultdf[\"len\"] = [x for x in [3,4,5,6,7] for i in range(8)]"
   ]
  },
  {
   "cell_type": "code",
   "execution_count": 6,
   "metadata": {},
   "outputs": [],
   "source": [
    "falseword_map = {2: \"greek\", 3: \"scramble\", 4:\"pseudo\"}\n",
    "\n",
    "for index in range(1, 3):\n",
    "    side = cutdf.at[index, \"side\"]\n",
    "    falseword = cutdf.at[index, \"falseword\"]\n",
    "    response = cutdf.at[index, \"trials.key_resp.keys\"]\n",
    "    user_id = cutdf.at[index, \"id\"]\n",
    "\n",
    "    # Construct word identifier\n",
    "    string1 = \"L\" if side == 0 else \"R\"\n",
    "    string2 = falseword_map.get(falseword, \"None\")\n",
    "    wordiden = f\"{string1}-{string2}\"\n",
    "\n",
    "    # Determine accuracy result\n",
    "    accuresult = int(response == 'z')\n",
    "\n",
    "    # Update resultdf\n",
    "    resultdf.loc[resultdf[\"id\"] == user_id, wordiden] = accuresult"
   ]
  }
 ],
 "metadata": {
  "kernelspec": {
   "display_name": "Python 3",
   "language": "python",
   "name": "python3"
  },
  "language_info": {
   "codemirror_mode": {
    "name": "ipython",
    "version": 3
   },
   "file_extension": ".py",
   "mimetype": "text/x-python",
   "name": "python",
   "nbconvert_exporter": "python",
   "pygments_lexer": "ipython3",
   "version": "3.10.11"
  }
 },
 "nbformat": 4,
 "nbformat_minor": 2
}
