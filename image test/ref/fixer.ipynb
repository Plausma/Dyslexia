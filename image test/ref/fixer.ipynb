{
 "cells": [
  {
   "cell_type": "code",
   "execution_count": 1,
   "metadata": {},
   "outputs": [],
   "source": [
    "import pandas as pd\n",
    "import random\n",
    "\n",
    "mainold = pd.read_excel(\"wordlist_dict.xlsx\")\n",
    "mainnew = pd.read_excel(\"newwordlist_dict.xlsx\")"
   ]
  },
  {
   "cell_type": "code",
   "execution_count": 2,
   "metadata": {},
   "outputs": [],
   "source": [
    "comb = pd.concat([mainold, mainnew], ignore_index=True)\n",
    "\n",
    "comb = comb.sort_values(by=['imgid'])"
   ]
  },
  {
   "cell_type": "code",
   "execution_count": 3,
   "metadata": {},
   "outputs": [],
   "source": [
    "# worse case scenario, read file from randomized file\n",
    "expen = pd.read_excel(\"../imgorder_en.xlsx\")\n",
    "expth = pd.read_excel(\"../imgorder_th.xlsx\")"
   ]
  },
  {
   "cell_type": "code",
   "execution_count": 5,
   "metadata": {},
   "outputs": [],
   "source": [
    "# add word that actually show\n",
    "expenfull = expen\n",
    "for i in range(0,len(expen.index)):\n",
    "    idnow = expenfull.loc[i,\"wordid\"]\n",
    "    expenfull.loc[i,\"word shown\"] = comb.loc[(comb['imgid'] == idnow), [\"en\"]].values[0]\n",
    "\n",
    "expthfull = expth\n",
    "for i in range(0,len(expth.index)):\n",
    "    idnow = expthfull.loc[i,\"wordid\"]\n",
    "    expthfull.loc[i,\"word shown\"] = comb.loc[(comb['imgid'] == idnow), [\"en\"]].values[0]"
   ]
  },
  {
   "cell_type": "code",
   "execution_count": 7,
   "metadata": {},
   "outputs": [],
   "source": [
    "# then export the df added actual word to ref\n",
    "expenfull.to_excel(\"imgorderen_full.xlsx\", index=None)\n",
    "expthfull.to_excel(\"imgorderth_full.xlsx\", index=None)"
   ]
  }
 ],
 "metadata": {
  "kernelspec": {
   "display_name": "Python 3",
   "language": "python",
   "name": "python3"
  },
  "language_info": {
   "codemirror_mode": {
    "name": "ipython",
    "version": 3
   },
   "file_extension": ".py",
   "mimetype": "text/x-python",
   "name": "python",
   "nbconvert_exporter": "python",
   "pygments_lexer": "ipython3",
   "version": "3.10.11"
  }
 },
 "nbformat": 4,
 "nbformat_minor": 2
}
