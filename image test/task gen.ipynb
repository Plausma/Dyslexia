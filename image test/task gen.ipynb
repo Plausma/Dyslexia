{
 "cells": [
  {
   "cell_type": "code",
   "execution_count": 19,
   "metadata": {},
   "outputs": [],
   "source": [
    "import pandas as pd\n",
    "import random\n",
    "\n",
    "main40 = pd.read_excel(\"wordlist.xlsx\")\n",
    "main100 = pd.read_excel(\"fullwordlist.xlsx\")"
   ]
  },
  {
   "cell_type": "code",
   "execution_count": 20,
   "metadata": {},
   "outputs": [],
   "source": [
    "illegal = [2,4,5,25,29,43,47,49,65,67,69,74,77,85,90,91,92,99,100]\n",
    "\n",
    "removal = main100\n",
    "\n",
    "removal = removal[~removal['imgid'].isin(main40[\"imgid\"].tolist())]\n",
    "removal = removal[~removal['imgid'].isin(illegal)]"
   ]
  },
  {
   "cell_type": "code",
   "execution_count": 21,
   "metadata": {},
   "outputs": [],
   "source": [
    "import matplotlib.pyplot as plt\n",
    "import scipy.stats as stats\n",
    "import numpy as np\n",
    "import pandas as pd\n",
    "import random\n",
    "\n",
    "# Load the full dataset from fullwordlist.xlsx (must be in the same directory)\n",
    "def sample_filtered_df(fullwordlist, seed, sample_size=20):\n",
    "    \n",
    "    filtered_df = fullwordlist[\n",
    "        fullwordlist['th'].str.len().between(3, 7) &\n",
    "        fullwordlist['en'].str.len().between(3, 7)\n",
    "    ]\n",
    "\n",
    "    sampled_df = filtered_df.sample(n=min(sample_size, len(filtered_df)), random_state=seed)\n",
    "    \n",
    "    return sampled_df\n",
    "\n",
    "def histochecker(df, mode):\n",
    "    \"\"\"\n",
    "    Either plots histograms or performs Chi-Square goodness-of-fit tests on word length distributions.\n",
    "\n",
    "    Parameters:\n",
    "    - df (pd.DataFrame): The sampled dataframe with 'th' and 'en' columns.\n",
    "    - mode (str): Either \"plotter\" (for visualizing histograms) or \"variant\" (for statistical analysis).\n",
    "\n",
    "    Returns:\n",
    "    - If mode == \"variant\":\n",
    "        - p_value_awo (float): Chi-Square p-value for Thai word length distribution.\n",
    "        - p_value_awa (float): Chi-Square p-value for English word length distribution.\n",
    "    \"\"\"\n",
    "\n",
    "    # Extract word lengths\n",
    "    awo = [len(word) for word in df['th']]\n",
    "    awa = [len(word) for word in df['en']]\n",
    "\n",
    "    if mode == \"plotter\":\n",
    "        # Generate histograms of word lengths\n",
    "        fig, axs = plt.subplots(1, 2, figsize=(6, 3), sharey=True)\n",
    "        axs[0].hist(awo, bins=np.arange(2.5, 8.5, 1), color=\"orange\", edgecolor=\"black\")\n",
    "        axs[0].set_title(\"Thai\")\n",
    "        axs[1].hist(awa, bins=np.arange(2.5, 8.5, 1), color=\"blue\", edgecolor=\"black\")\n",
    "        axs[1].set_title(\"English\")\n",
    "        plt.show()\n",
    "\n",
    "    elif mode == \"variant\":\n",
    "        # Define bin ranges for lengths 3-7\n",
    "        num_bins = 5  \n",
    "        bins = np.arange(2.5, 8.5, 1)  \n",
    "\n",
    "        # Compute Chi-Square for Thai word lengths\n",
    "        observed_awo, _ = np.histogram(awo, bins=bins)\n",
    "        expected_awo = np.full(num_bins, len(awo) / num_bins)\n",
    "        chi2_stat_awo, p_value_awo = stats.chisquare(observed_awo, expected_awo)\n",
    "\n",
    "        # Compute Chi-Square for English word lengths\n",
    "        observed_awa, _ = np.histogram(awa, bins=bins)\n",
    "        expected_awa = np.full(num_bins, len(awa) / num_bins)\n",
    "        chi2_stat_awa, p_value_awa = stats.chisquare(observed_awa, expected_awa)\n",
    "\n",
    "        return p_value_awo, p_value_awa  # Return both p-values\n"
   ]
  },
  {
   "cell_type": "code",
   "execution_count": null,
   "metadata": {},
   "outputs": [
    {
     "name": "stdout",
     "output_type": "stream",
     "text": [
      "Final highest sum after n iterations: 1.1648 (Seed: 2247)\n"
     ]
    }
   ],
   "source": [
    "# Loop to find the highest sum of Chi-Square p-values\n",
    "highest_sum = 1.1648  # Stores the highest sum found so far\n",
    "best_seed = 2247  # Stores the seed that gave the highest sum\n",
    "\n",
    "for i in range(1000):  # Run the experiment 1000 times\n",
    "    seed = random.randint(0, 1000000000)  # Generate a random seed\n",
    "\n",
    "    sampled_df = sample_filtered_df(removal, seed)  # Filter and sample 60 rows\n",
    "    p_value_awo, p_value_awa = histochecker(sampled_df, \"variant\")  # Get Chi-Square p-values\n",
    "    \n",
    "    p_sum = p_value_awo + p_value_awa  # Sum the two p-values\n",
    "    \n",
    "    if p_sum > highest_sum:  # If this is the highest sum so far, update records\n",
    "        highest_sum = p_sum\n",
    "        best_seed = seed\n",
    "        print(f\"New highest sum found: {highest_sum:.4f} (Seed: {best_seed})\")\n",
    "        print(f\"  P-value (Thai): {p_value_awo:.4f}, P-value (English): {p_value_awa:.4f}\")\n",
    "\n",
    "print(f\"Final highest sum after n iterations: {highest_sum:.4f} (Seed: {best_seed})\")"
   ]
  },
  {
   "cell_type": "code",
   "execution_count": 60,
   "metadata": {},
   "outputs": [
    {
     "data": {
      "image/png": "[encoded data removed]",
      "text/plain": [
       "<Figure size 600x300 with 2 Axes>"
      ]
     },
     "metadata": {},
     "output_type": "display_data"
    },
    {
     "data": {
      "image/png": "[encoded data removed]",
      "text/plain": [
       "<Figure size 600x300 with 2 Axes>"
      ]
     },
     "metadata": {},
     "output_type": "display_data"
    }
   ],
   "source": [
    "sampled_df = sample_filtered_df(removal, 2247)\n",
    "histochecker(sampled_df,\"plotter\")\n",
    "sampled_df.to_excel(\"my 20 nigga.xlsx\", index=None)\n",
    "comb = pd.concat([main40, sampled_df],ignore_index=True)\n",
    "histochecker(comb, \"plotter\")\n",
    "comb.to_excel(\"mynigga.xlsx\", index=None)"
   ]
  },
  {
   "cell_type": "code",
   "execution_count": 54,
   "metadata": {},
   "outputs": [],
   "source": [
    "# create order list\n",
    "\n",
    "# wordid is predefined\n",
    "wordid = comb['imgid'].tolist()\n",
    "\n",
    "# define lang 1 = th, 2 = en\n",
    "lang = [1,2]\n",
    "\n",
    "# image id, 0 = incorrect, 1 = correct\n",
    "truestate = [0,1]\n",
    "\n",
    "\n",
    "imgorderth = pd.DataFrame([[1, n, p]  for n in wordid for p in truestate], columns = [\"lang\", \"wordid\", \"truestate\"])\n",
    "imgorderen = pd.DataFrame([[2, n, p]  for n in wordid for p in truestate], columns = [\"lang\", \"wordid\", \"truestate\"])\n"
   ]
  },
  {
   "cell_type": "code",
   "execution_count": 57,
   "metadata": {},
   "outputs": [],
   "source": [
    "# add word and img dir,  word[lang][id][type] and img[state][id]\n",
    "def word_n_imgdir_rmaker(df):\n",
    "    for rowid in range(0, len(df.index)):\n",
    "        wordid = df.loc[rowid, \"wordid\"]\n",
    "        if df.loc[rowid,\"lang\"] == 1:\n",
    "            df.loc[rowid,\"worddir\"] = f\"word/wordth{wordid:03}1.png\"\n",
    "        else:\n",
    "            df.loc[rowid,\"worddir\"] = f\"word/worden{wordid:03}1.png\"\n",
    "\n",
    "    for rowid in range(0, len(df.index)):\n",
    "        wordid = df.loc[rowid, \"wordid\"]\n",
    "        if df.loc[rowid, \"truestate\"] == 0:\n",
    "            df.loc[rowid,\"imgdir\"] = f\"image/False/imgf{wordid:02}.png\"\n",
    "        else:\n",
    "            df.loc[rowid, \"imgdir\"] = f\"image/True/img{wordid:02}.png\"\n",
    "\n",
    "\n",
    "word_n_imgdir_rmaker(imgorderth)\n",
    "word_n_imgdir_rmaker(imgorderen)"
   ]
  },
  {
   "cell_type": "code",
   "execution_count": 58,
   "metadata": {},
   "outputs": [],
   "source": [
    "# export the file for running only\n",
    "# start with en dataframe --> repeat --> randomize --> export\n",
    "import random\n",
    "random.seed(69) # to control every repeat\n",
    "\n",
    "def con_n_ran(df, name):\n",
    "    rep = pd.concat([df, df], ignore_index=True)\n",
    "    full = rep.sample(frac=1)\n",
    "    full.to_excel(name, index=None)\n",
    "\n",
    "con_n_ran(imgorderen, \"enimgorder.xlsx\")\n",
    "con_n_ran(imgorderth, \"thimgorder.xlsx\")\n",
    "\n",
    "# if merge both of them, need to write a new one\n",
    "rep = pd.concat([imgorderth, imgorderen], ignore_index=True)\n",
    "\n",
    "# and repeat one more time\n",
    "reprep = pd.concat([rep, rep], ignore_index=True)\n",
    "repsam = reprep.sample(frac=1)\n",
    "\n",
    "repsam.to_excel(\"fullwordorder.xlsx\", index=None)"
   ]
  }
 ],
 "metadata": {
  "kernelspec": {
   "display_name": "Python 3",
   "language": "python",
   "name": "python3"
  },
  "language_info": {
   "codemirror_mode": {
    "name": "ipython",
    "version": 3
   },
   "file_extension": ".py",
   "mimetype": "text/x-python",
   "name": "python",
   "nbconvert_exporter": "python",
   "pygments_lexer": "ipython3",
   "version": "3.10.11"
  }
 },
 "nbformat": 4,
 "nbformat_minor": 2
}
