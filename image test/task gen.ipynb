{
 "cells": [
  {
   "cell_type": "code",
   "execution_count": 5,
   "metadata": {},
   "outputs": [],
   "source": [
    "import pandas as pd\n",
    "import random\n",
    "\n",
    "main40 = pd.read_excel(\"wordlist.xlsx\")\n",
    "main100 = pd.read_excel(\"fullwordlist.xlsx\")"
   ]
  },
  {
   "cell_type": "code",
   "execution_count": null,
   "metadata": {},
   "outputs": [
    {
     "data": {
      "image/png": "[encoded data removed]",
      "text/plain": [
       "<Figure size 600x300 with 2 Axes>"
      ]
     },
     "metadata": {},
     "output_type": "display_data"
    }
   ],
   "source": [
    "import matplotlib.pyplot as plt\n",
    "import scipy.stats as stats\n",
    "import numpy as np\n",
    "\n",
    "def histochecker(df, mode):\n",
    "    awo = [len(df.loc[i,'th']) for i in range(0,len(df.index))]\n",
    "    awa = [len(df.loc[i,'en']) for i in range(0,len(df.index))]\n",
    "\n",
    "    if mode == \"plotter\":\n",
    "        fig, axs = plt.subplots(1, 2, figsize=(6, 3), sharey=True)\n",
    "        axs[0].hist(awo, color = \"orange\",edgecolor = \"black\")\n",
    "        axs[0].set_title(\"thai\")\n",
    "        axs[1].hist(awa, color = \"blue\",edgecolor = \"black\")\n",
    "        axs[1].set_title(\"eng\")\n",
    "\n",
    "    elif mode == \"variant\": # return p value of the current th langauge uniform distribution, the higher the p, the more it uniformly disttributed\n",
    "        num_bins = 12\n",
    "        bins = np.linspace(2,14,num_bins + 1)\n",
    "\n",
    "        # Get observed frequencies\n",
    "        observed, _ = np.histogram(awo, bins=bins)\n",
    "\n",
    "        # Expected frequency per bin assuming uniform distribution\n",
    "        expected = np.full(num_bins, len(awo) / num_bins)\n",
    "\n",
    "        # Perform Chi-Square Test\n",
    "        chi2_stat, p_value = stats.chisquare(observed, expected)\n",
    "\n",
    "        # Print results\n",
    "        # print(f\"Chi-Square Statistic: {chi2_stat:.4f}\")\n",
    "        # print(f\"P-value: {p_value:.4f}\")\n",
    "        return p_value\n",
    "    \n",
    "    # print(\"seed =\",seed)\n",
    "    \n",
    "\n",
    "histochecker(main40, \"plotter\")"
   ]
  },
  {
   "cell_type": "code",
   "execution_count": 7,
   "metadata": {},
   "outputs": [],
   "source": [
    "illegal = [2,4,5,25,29,43,47,49,65,67,69,74,77,85,90,91,92,99,100]\n",
    "\n",
    "removal = main100\n",
    "\n",
    "removal = removal[~removal['imgid'].isin(main40[\"imgid\"].tolist())]\n",
    "removal = removal[~removal['imgid'].isin(illegal)]"
   ]
  },
  {
   "cell_type": "code",
   "execution_count": null,
   "metadata": {},
   "outputs": [],
   "source": [
    "ptop = 0.9210948888374612\n",
    "seed = 164957292   \n",
    "\n",
    "for i in range(0,1):\n",
    "    valie = random.randint(0,999999999)\n",
    "    removalsamp = removal.sample(20, random_state = valie).reset_index(drop=True)\n",
    "    p = histochecker(removalsamp, \"variant\")\n",
    "    if p > ptop:\n",
    "        ptop = p\n",
    "        print(\"seed\", valie, \"outrun\", seed,\"!, with p =\",p)\n",
    "        seed = valie"
   ]
  },
  {
   "cell_type": "code",
   "execution_count": 9,
   "metadata": {},
   "outputs": [
    {
     "data": {
      "image/png": "[encoded data removed]",
      "text/plain": [
       "<Figure size 600x300 with 2 Axes>"
      ]
     },
     "metadata": {},
     "output_type": "display_data"
    }
   ],
   "source": [
    "\n",
    "removalsamp = removal.sample(20, random_state = 164957292).reset_index(drop=True)\n",
    "histochecker(removalsamp, \"plotter\")\n",
    "\n",
    "    \n"
   ]
  },
  {
   "cell_type": "code",
   "execution_count": 16,
   "metadata": {},
   "outputs": [
    {
     "data": {
      "image/png": "[encoded data removed]",
      "text/plain": [
       "<Figure size 600x300 with 2 Axes>"
      ]
     },
     "metadata": {},
     "output_type": "display_data"
    }
   ],
   "source": [
    "rawdata = pd.concat([removalsamp, main40], ignore_index=True)\n",
    "# rawdata['th'].duplicated()\n",
    "\n",
    "# rawdata file is used to reference what was represented, note that making a full list of\n",
    "# file that include both image and text is impossible, I mean, who would add image in excel?\n",
    "# either you are dumb or stupid, or both, whatever\n",
    "histochecker(rawdata,\"plotter\")\n",
    "\n",
    "rawdata.to_excel(\"allthisshit.xlsx\", index=None)"
   ]
  },
  {
   "cell_type": "code",
   "execution_count": 11,
   "metadata": {},
   "outputs": [],
   "source": [
    "# create order list\n",
    "\n",
    "# wordid is predefined\n",
    "wordid = rawdata['imgid'].tolist()\n",
    "\n",
    "# define lang 1 = th, 2 = en\n",
    "lang = [1,2]\n",
    "\n",
    "# image id, 0 = incorrect, 1 = correct\n",
    "truestate = [0,1]\n",
    "\n",
    "\n",
    "imgorderth = pd.DataFrame([[1, n, p]  for n in wordid for p in truestate], columns = [\"lang\", \"wordid\", \"truestate\"])\n",
    "imgorderen = pd.DataFrame([[2, n, p]  for n in wordid for p in truestate], columns = [\"lang\", \"wordid\", \"truestate\"])\n"
   ]
  },
  {
   "cell_type": "code",
   "execution_count": 12,
   "metadata": {},
   "outputs": [],
   "source": [
    "# add word and img dir,  word[lang][id][type] and img[state][id]\n",
    "def word_n_imgdir_rmaker(df):\n",
    "    for rowid in range(0, len(df.index)):\n",
    "        wordid = df.loc[rowid, \"wordid\"]\n",
    "        if df.loc[rowid,\"lang\"] == 1:\n",
    "            df.loc[rowid,\"worddir\"] = f\"word/wordth{wordid:03}1.png\"\n",
    "        else:\n",
    "            df.loc[rowid,\"worddir\"] = f\"word/worden{wordid:03}1.png\"\n",
    "\n",
    "    for rowid in range(0, len(df.index)):\n",
    "        wordid = df.loc[rowid, \"wordid\"]\n",
    "        if df.loc[rowid, \"truestate\"] == 0:\n",
    "            df.loc[rowid,\"imgdir\"] = f\"image/False/mgf{wordid:02}.png\"\n",
    "        else:\n",
    "            df.loc[rowid, \"imgdir\"] = f\"image/True/img{wordid:02}.png\"\n",
    "\n",
    "\n",
    "word_n_imgdir_rmaker(imgorderth)\n",
    "word_n_imgdir_rmaker(imgorderen)"
   ]
  },
  {
   "cell_type": "code",
   "execution_count": 13,
   "metadata": {},
   "outputs": [],
   "source": [
    "# export the file for running only\n",
    "# start with en dataframe --> repeat --> randomize --> export\n",
    "import random\n",
    "random.seed(69) # to control every repeat\n",
    "\n",
    "def con_n_ran(df, name):\n",
    "    rep = pd.concat([df, df], ignore_index=True)\n",
    "    full = rep.sample(frac=1)\n",
    "    full.to_excel(name, index=None)\n",
    "\n",
    "con_n_ran(imgorderen, \"enimgorder.xlsx\")\n",
    "con_n_ran(imgorderth, \"thimgorder.xlsx\")\n",
    "\n",
    "# if merge both of them, need to write a new one\n",
    "rep = pd.concat([imgorderth, imgorderen], ignore_index=True)\n",
    "\n",
    "# and repeat one more time\n",
    "reprep = pd.concat([rep, rep], ignore_index=True)\n",
    "repsam = reprep.sample(frac=1)\n",
    "\n",
    "repsam.to_excel(\"fullwordorder.xlsx\", index=None)"
   ]
  }
 ],
 "metadata": {
  "kernelspec": {
   "display_name": "Python 3",
   "language": "python",
   "name": "python3"
  },
  "language_info": {
   "codemirror_mode": {
    "name": "ipython",
    "version": 3
   },
   "file_extension": ".py",
   "mimetype": "text/x-python",
   "name": "python",
   "nbconvert_exporter": "python",
   "pygments_lexer": "ipython3",
   "version": "3.10.11"
  }
 },
 "nbformat": 4,
 "nbformat_minor": 2
}
