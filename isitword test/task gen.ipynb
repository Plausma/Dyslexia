{
 "cells": [
  {
   "cell_type": "code",
   "execution_count": 6,
   "metadata": {},
   "outputs": [],
   "source": [
    "import pandas as pd\n",
    "\n",
    "thdf = pd.read_excel(\"word/th_wordlist.xlsx\")\n",
    "thdf[\"len\"] = [len(thdf.loc[i,\"Correct\"]) for i in range(0,40)]\n",
    "\n",
    "endf = pd.read_excel(\"word/en_wordlist.xlsx\")\n",
    "endf[\"len\"] = [len(endf.loc[i,\"Correct\"]) for i in range(0,40)]\n",
    "\n",
    "wordinfo = pd.concat([thdf, endf], ignore_index=True)\n",
    "wordinfo.to_excel(\"ref/dict.xlsx\", index=None)"
   ]
  },
  {
   "cell_type": "code",
   "execution_count": 7,
   "metadata": {},
   "outputs": [],
   "source": [
    "# create order list\n",
    "\n",
    "# define starting lang, 1 = th, 2 = en\n",
    "lang = [1,2]\n",
    "\n",
    "# define stimuli type, 1 = correct word, 2 = scramble, 3 = typo\n",
    "stimuli = [1,2,3]\n",
    "\n",
    "# word id, use the same as previous\n",
    "idnum = thdf[\"Image ID\"].tolist()\n",
    "\n",
    "wordorderfull = pd.DataFrame([[m, n, p] for m in lang for n in stimuli for p in idnum], columns = [\"lang\", \"stimuli\", \"imageid\"])\n"
   ]
  },
  {
   "cell_type": "code",
   "execution_count": 8,
   "metadata": {},
   "outputs": [],
   "source": [
    "for m in range(0, len(lang)):\n",
    "    for n in range(0, len(stimuli)):\n",
    "        wordorderfull.loc[120*m + 40*n:120*m + 40*(n+1)-1,\"word shown\"] = wordinfo.iloc[40*m:40*(m+1),n + 1].tolist()\n",
    "\n",
    "checker = wordorderfull[\"word shown\"].duplicated()\n",
    "\n",
    "wordorderfull['worddir'] = wordorderfull.apply(\n",
    "    lambda row: f\"word/word{'th' if row['lang'] == 1 else 'en'}{row['imageid']:03}{row['stimuli']}.png\", axis=1\n",
    ")\n",
    "\n",
    "group = wordorderfull.groupby(wordorderfull.lang)\n",
    "wordorderth_full = group.get_group(1).reset_index(drop=True)\n",
    "wordorderen_full = group.get_group(2).reset_index(drop=True)"
   ]
  },
  {
   "cell_type": "code",
   "execution_count": 9,
   "metadata": {},
   "outputs": [],
   "source": [
    "import random\n",
    "\n",
    "random.seed(69)\n",
    "\n",
    "\n",
    "randed = wordorderfull.sample(frac = 1)\n",
    "randed.to_excel(\"ref/wordorderfull.xlsx\", index=None)\n",
    "\n",
    "order = randed.drop(columns=[\"word shown\"])\n",
    "order.to_excel(\"wordorder.xlsx\", index=None)"
   ]
  },
  {
   "cell_type": "code",
   "execution_count": 10,
   "metadata": {},
   "outputs": [
    {
     "ename": "TypeError",
     "evalue": "NDFrame.to_excel() missing 1 required positional argument: 'excel_writer'",
     "output_type": "error",
     "traceback": [
      "\u001b[1;31m---------------------------------------------------------------------------\u001b[0m",
      "\u001b[1;31mTypeError\u001b[0m                                 Traceback (most recent call last)",
      "Cell \u001b[1;32mIn [10], line 1\u001b[0m\n\u001b[1;32m----> 1\u001b[0m \u001b[43mwordorderen_full\u001b[49m\u001b[38;5;241;43m.\u001b[39;49m\u001b[43msample\u001b[49m\u001b[43m(\u001b[49m\u001b[43mfrac\u001b[49m\u001b[38;5;241;43m=\u001b[39;49m\u001b[38;5;241;43m1\u001b[39;49m\u001b[43m)\u001b[49m\u001b[38;5;241;43m.\u001b[39;49m\u001b[43mto_excel\u001b[49m\u001b[43m(\u001b[49m\u001b[43m)\u001b[49m\n",
      "File \u001b[1;32m~\\AppData\\Local\\Packages\\PythonSoftwareFoundation.Python.3.10_qbz5n2kfra8p0\\LocalCache\\local-packages\\Python310\\site-packages\\pandas\\util\\_decorators.py:333\u001b[0m, in \u001b[0;36mdeprecate_nonkeyword_arguments.<locals>.decorate.<locals>.wrapper\u001b[1;34m(*args, **kwargs)\u001b[0m\n\u001b[0;32m    327\u001b[0m \u001b[38;5;28;01mif\u001b[39;00m \u001b[38;5;28mlen\u001b[39m(args) \u001b[38;5;241m>\u001b[39m num_allow_args:\n\u001b[0;32m    328\u001b[0m     warnings\u001b[38;5;241m.\u001b[39mwarn(\n\u001b[0;32m    329\u001b[0m         msg\u001b[38;5;241m.\u001b[39mformat(arguments\u001b[38;5;241m=\u001b[39m_format_argument_list(allow_args)),\n\u001b[0;32m    330\u001b[0m         \u001b[38;5;167;01mFutureWarning\u001b[39;00m,\n\u001b[0;32m    331\u001b[0m         stacklevel\u001b[38;5;241m=\u001b[39mfind_stack_level(),\n\u001b[0;32m    332\u001b[0m     )\n\u001b[1;32m--> 333\u001b[0m \u001b[38;5;28;01mreturn\u001b[39;00m func(\u001b[38;5;241m*\u001b[39margs, \u001b[38;5;241m*\u001b[39m\u001b[38;5;241m*\u001b[39mkwargs)\n",
      "\u001b[1;31mTypeError\u001b[0m: NDFrame.to_excel() missing 1 required positional argument: 'excel_writer'"
     ]
    }
   ],
   "source": [
    "wordorderen_full.sample(frac=1).to_excel()\n"
   ]
  }
 ],
 "metadata": {
  "kernelspec": {
   "display_name": "Python 3",
   "language": "python",
   "name": "python3"
  },
  "language_info": {
   "codemirror_mode": {
    "name": "ipython",
    "version": 3
   },
   "file_extension": ".py",
   "mimetype": "text/x-python",
   "name": "python",
   "nbconvert_exporter": "python",
   "pygments_lexer": "ipython3",
   "version": "3.10.11"
  }
 },
 "nbformat": 4,
 "nbformat_minor": 2
}
