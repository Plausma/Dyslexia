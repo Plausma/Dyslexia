{
 "cells": [
  {
   "cell_type": "code",
   "execution_count": 11,
   "metadata": {},
   "outputs": [],
   "source": [
    "import pandas as pd\n",
    "\n",
    "thdf = pd.read_excel(\"word/th_wordlist.xlsx\")\n",
    "thdf[\"len\"] = [len(thdf.loc[i,\"Correct\"]) for i in range(0,40)]\n",
    "\n",
    "endf = pd.read_excel(\"word/en_wordlist.xlsx\")\n",
    "endf[\"len\"] = [len(endf.loc[i,\"Correct\"]) for i in range(0,40)]\n",
    "\n",
    "wordinfo = pd.concat([thdf, endf], ignore_index=True)\n",
    "wordinfo.to_excel(\"ref/dict.xlsx\", index=None)"
   ]
  },
  {
   "cell_type": "code",
   "execution_count": 12,
   "metadata": {},
   "outputs": [],
   "source": [
    "# create order list\n",
    "\n",
    "# define starting lang, 1 = th, 2 = en\n",
    "lang = [1,2]\n",
    "\n",
    "# define stimuli type, 1 = correct word, 2 = scramble, 3 = typo\n",
    "stimuli = [1,2,3]\n",
    "\n",
    "# word id, use the same as previous\n",
    "idnum = thdf[\"Image ID\"].tolist()\n",
    "\n",
    "wordorderfull = pd.DataFrame([[m, n, p] for m in lang for n in stimuli for p in idnum], columns = [\"lang\", \"stimuli\", \"imageid\"])\n"
   ]
  },
  {
   "cell_type": "code",
   "execution_count": 13,
   "metadata": {},
   "outputs": [],
   "source": [
    "for m in range(0, len(lang)):\n",
    "    for n in range(0, len(stimuli)):\n",
    "        wordorderfull.loc[120*m + 40*n:120*m + 40*(n+1)-1,\"word shown\"] = wordinfo.iloc[40*m:40*(m+1),n + 1].tolist()\n",
    "\n",
    "checker = wordorderfull[\"word shown\"].duplicated()\n",
    "\n",
    "wordorderfull['worddir'] = wordorderfull.apply(\n",
    "    lambda row: f\"word/word{'th' if row['lang'] == 1 else 'en'}{row['imageid']:03}{row['stimuli']}.png\", axis=1\n",
    ")\n",
    "\n",
    "group = wordorderfull.groupby(wordorderfull.lang)\n",
    "wordorderth_full = group.get_group(1).reset_index(drop=True)\n",
    "wordorderen_full = group.get_group(2).reset_index(drop=True)"
   ]
  },
  {
   "cell_type": "code",
   "execution_count": 14,
   "metadata": {},
   "outputs": [],
   "source": [
    "import random\n",
    "\n",
    "random.seed(69)"
   ]
  },
  {
   "cell_type": "code",
   "execution_count": 15,
   "metadata": {},
   "outputs": [],
   "source": [
    "\n",
    "\n",
    "def rep_n_ran(df, dirref, dirrun):\n",
    "    randed = df.sample(frac = 1)\n",
    "    randed.to_excel(dirref, index=None)\n",
    "\n",
    "    order = randed.drop(columns=[\"word shown\"])\n",
    "    order.to_excel(dirrun, index=None)"
   ]
  },
  {
   "cell_type": "code",
   "execution_count": 16,
   "metadata": {},
   "outputs": [],
   "source": [
    "rep_n_ran(wordorderth_full, \"ref/wordorderth_full.xlsx\",\"wordorderth.xlsx\")\n",
    "rep_n_ran(wordorderen_full, \"ref/wordorderen_full.xlsx\",\"wordorderen.xlsx\")"
   ]
  }
 ],
 "metadata": {
  "kernelspec": {
   "display_name": "Python 3",
   "language": "python",
   "name": "python3"
  },
  "language_info": {
   "codemirror_mode": {
    "name": "ipython",
    "version": 3
   },
   "file_extension": ".py",
   "mimetype": "text/x-python",
   "name": "python",
   "nbconvert_exporter": "python",
   "pygments_lexer": "ipython3",
   "version": "3.10.11"
  }
 },
 "nbformat": 4,
 "nbformat_minor": 2
}
