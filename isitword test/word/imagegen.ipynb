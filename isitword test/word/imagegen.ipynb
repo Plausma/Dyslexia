{
 "cells": [
  {
   "cell_type": "code",
   "execution_count": 6,
   "metadata": {},
   "outputs": [],
   "source": [
    "import pandas as pd\n",
    "from PIL import Image, ImageDraw, ImageFont\n",
    "import os\n"
   ]
  },
  {
   "cell_type": "code",
   "execution_count": 7,
   "metadata": {},
   "outputs": [],
   "source": [
    "\n",
    "def create_word_image(word, font_path, save_path, image_name, font_size):\n",
    "    width, height = 1000, 500\n",
    "    bg_color = \"#808080\"\n",
    "    \n",
    "    img = Image.new(\"RGB\", (width, height), bg_color)\n",
    "    draw = ImageDraw.Draw(img)\n",
    "    \n",
    "    font = ImageFont.truetype(font_path, font_size)\n",
    "    \n",
    "    x = width // 2\n",
    "    y = height // 2\n",
    "    draw.text((x, y), word, fill=\"white\", anchor='mm', font=font)\n",
    "    \n",
    "    img.save(f\"{save_path}{image_name}\")\n"
   ]
  },
  {
   "cell_type": "code",
   "execution_count": 8,
   "metadata": {},
   "outputs": [],
   "source": [
    "\n",
    "# Define base directory\n",
    "imgsave_dir = ''\n",
    "\n",
    "# Get font path for ClearSans\n",
    "globalfont_dir = \"./THsarabun.ttf\"\n"
   ]
  },
  {
   "cell_type": "code",
   "execution_count": 9,
   "metadata": {},
   "outputs": [
    {
     "name": "stdout",
     "output_type": "stream",
     "text": [
      "กีกี้\n"
     ]
    }
   ],
   "source": [
    "print(\"กีกี้\")"
   ]
  },
  {
   "cell_type": "code",
   "execution_count": 10,
   "metadata": {},
   "outputs": [
    {
     "name": "stdout",
     "output_type": "stream",
     "text": [
      "Images successfully generated\n",
      "Images successfully generated\n"
     ]
    }
   ],
   "source": [
    "# Load words from Excel file\n",
    "endf = pd.read_excel('en_wordlist.xlsx')\n",
    "thdf = pd.read_excel('th_wordlist.xlsx')\n",
    "\n",
    "# Extract words from df\n",
    "def extract_n_create(df, lang, font_dir):\n",
    "    word_id = df['Image ID'].dropna().tolist()\n",
    "    correct_words = df[\"Correct\"].dropna().tolist()\n",
    "    typo_words = df[\"Typo\"].dropna().tolist()\n",
    "    scramble_words = df[\"Scramble\"].dropna().tolist()\n",
    "\n",
    "    langname = lang\n",
    "    # Generate images with ClearSans font\n",
    "    for i, correct, typo, scramble in zip(word_id, correct_words, typo_words, scramble_words):\n",
    "        correct_name = f\"word{langname}{i:03}1.png\"\n",
    "        typo_name = f\"word{langname}{i:03}3.png\"\n",
    "        scramble_name = f\"word{langname}{i:03}2.png\"\n",
    "        \n",
    "        create_word_image(correct, font_dir, imgsave_dir, correct_name, font_size=360)\n",
    "        create_word_image(typo, font_dir, imgsave_dir, typo_name, font_size=360)\n",
    "        create_word_image(scramble, font_dir, imgsave_dir, scramble_name, font_size=360)\n",
    "\n",
    "    print(\"Images successfully generated\")\n",
    "\n",
    "extract_n_create(endf, \"en\", globalfont_dir)\n",
    "extract_n_create(thdf, \"th\", globalfont_dir)"
   ]
  },
  {
   "cell_type": "code",
   "execution_count": 11,
   "metadata": {},
   "outputs": [
    {
     "data": {
      "text/plain": [
       "40"
      ]
     },
     "execution_count": 11,
     "metadata": {},
     "output_type": "execute_result"
    }
   ],
   "source": [
    "teller = endf['Scramble'].dropna().tolist()\n",
    "len(teller)"
   ]
  }
 ],
 "metadata": {
  "kernelspec": {
   "display_name": "Python 3",
   "language": "python",
   "name": "python3"
  },
  "language_info": {
   "codemirror_mode": {
    "name": "ipython",
    "version": 3
   },
   "file_extension": ".py",
   "mimetype": "text/x-python",
   "name": "python",
   "nbconvert_exporter": "python",
   "pygments_lexer": "ipython3",
   "version": "3.10.11"
  }
 },
 "nbformat": 4,
 "nbformat_minor": 2
}
