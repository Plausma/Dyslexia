{
 "cells": [
  {
   "cell_type": "code",
   "execution_count": 38,
   "metadata": {},
   "outputs": [],
   "source": [
    "# part i, letter differentiation\n",
    "# independent to any file, can run isolately\n",
    "import pandas as pd\n",
    "# language as th =1, en = 2\n",
    "lang = [1,2]\n",
    "\n",
    "# sequence of target letter, first = 1, second = 2\n",
    "seq = [1,2]\n",
    "# stimulus type, order by en, th, kh, gr\n",
    "langpair = [1, 2, 3]\n",
    "# for letter pair\n",
    "pairid = [i+1 for i in range(8)]\n",
    "\n",
    "def addletter_dir(df):\n",
    "    df[\"firstletter\"] = ''\n",
    "    df[\"firstdir\"] = ''\n",
    "    df[\"secondletter\"] = ''\n",
    "    df[\"seconddir\"] = ''\n",
    "\n",
    "\n",
    "letterorderth = pd.DataFrame([[1, m, p, q]  for m in langpair for p in seq for q in pairid], columns = [\"lang\",\"langpair\", \"sequence\", \"pairid\"])\n",
    "letterorderen = pd.DataFrame([[2, m, p, q]  for m in langpair for p in seq for q in pairid], columns = [\"lang\",\"langpair\", \"sequence\", \"pairid\"])\n",
    "addletter_dir(letterorderth)\n",
    "addletter_dir(letterorderen)"
   ]
  },
  {
   "cell_type": "code",
   "execution_count": 39,
   "metadata": {},
   "outputs": [],
   "source": [
    "import string\n",
    "import pythainlp\n",
    "import random\n",
    "\n",
    "#create th and en list\n",
    "thletter = list(pythainlp.thai_characters)[0:44]\n",
    "del thletter[5]\n",
    "enletter = list(string.ascii_lowercase)\n",
    "khletter = [\n",
    "    'ក', 'ភ', 'ឥ', 'ឫ', 'ប', 'ម', 'ឭ', 'ត', 'ឮ', 'គ', 'ព', \n",
    "    'ឌ', 'ឧ', 'ខ', 'ឱ', 'ៗ', 'ឋ', 'ស', 'ល', 'ឈ', 'ញ', 'ឦ', 'ណ', \n",
    "    'ឰ', 'ឡ', 'ឪ', 'ឬ', 'ឳ', 'ហ', 'ឍ', '៛', 'រ', 'អ', 'វ', 'ន', \n",
    "    'យ', 'ដ', 'ង', 'ឃ', 'ឯ', 'ជ', 'ធ', 'ផ', 'ឆ', 'ច', 'ថ', 'ឲ'\n",
    "]\n",
    "\n",
    "grletter = [\n",
    "    'Δ', 'Λ', 'β', 'ρ', 'ς', 'σ', 'θ', 'Θ', 'Φ', 'Ω', 'δ', \n",
    "    'ε', 'Σ', 'Ξ', 'ξ', 'φ', 'λ', 'π', 'Π', 'η', 'μ', \n",
    "    'ψ', 'Ψ', 'ω', 'Γ', 'ζ'\n",
    "]\n",
    "\n"
   ]
  },
  {
   "cell_type": "code",
   "execution_count": 40,
   "metadata": {},
   "outputs": [
    {
     "name": "stdout",
     "output_type": "stream",
     "text": [
      "DataFrame shape: (39, 16)\n",
      "th011\n"
     ]
    }
   ],
   "source": [
    "# create letter name from cursed excel, only used with this excel since the row is predefined\n",
    "\n",
    "# Load the Excel file\n",
    "file_path = 'ref/dict.xlsx'\n",
    "df = pd.read_excel(file_path, sheet_name='Sheet1', header=None)  # Read the sheet into a DataFrame\n",
    "\n",
    "# Print the shape of the DataFrame for debugging\n",
    "print(\"DataFrame shape:\", df.shape)  # (rows, columns)\n",
    "\n",
    "def find_letter_position(letter):\n",
    "    # Define language regions based on the actual DataFrame shape\n",
    "    regions = {\n",
    "        'en': {'rows': range(0, 20), 'cols': range(0, 3)},  # A-C (0-based indexing)\n",
    "        'gr': {'rows': range(0, 20), 'cols': range(4, 11)}, # E-K (0-based indexing)\n",
    "        'th': {'rows': range(21, 41), 'cols': range(0, 6)}, # A-H (0-based indexing)\n",
    "        'kh': {'rows': range(21, 41), 'cols': range(7, 18)} # J-R (0-based indexing)\n",
    "    }\n",
    "\n",
    "    # Iterate through each region to find the letter\n",
    "    for lang, region in regions.items():\n",
    "        for row in region['rows']:\n",
    "            for col in region['cols']:\n",
    "                try:\n",
    "                    cell_value = df.iat[row, col]  # Access cell value using 0-based indexing\n",
    "                    if cell_value == letter:\n",
    "                        # Calculate relative row and column\n",
    "                        rel_row = row - region['rows'].start + 1\n",
    "                        rel_col = col - region['cols'].start + 1\n",
    "                        return f\"{lang}{rel_row:02d}{rel_col}\"\n",
    "                except IndexError:\n",
    "                    # Skip if the column index is out of bounds\n",
    "                    continue\n",
    "    \n",
    "    return \"Letter not found\"\n",
    "\n",
    "# Example usage\n",
    "letter = 'ก'\n",
    "position = find_letter_position(letter)\n",
    "print(position)  # Output: gr0702"
   ]
  },
  {
   "cell_type": "code",
   "execution_count": 41,
   "metadata": {},
   "outputs": [],
   "source": [
    "random.seed(69)"
   ]
  },
  {
   "cell_type": "code",
   "execution_count": 42,
   "metadata": {},
   "outputs": [
    {
     "name": "stdout",
     "output_type": "stream",
     "text": [
      "[['ฃ', 'y'], ['ฉ', 'o'], ['ฏ', 'd'], ['ง', 'g'], ['ฝ', 'd'], ['ป', 'v'], ['ย', 'q'], ['ศ', 'p']]\n",
      "[['ร', 'η'], ['ล', 'Σ'], ['ฬ', 'ω'], ['ป', 'Θ'], ['ล', 'π'], ['ญ', 'ς'], ['ย', 'Σ'], ['ภ', 'ω']]\n",
      "[['d', 'ฃ'], ['t', 'ม'], ['n', 'ฝ'], ['h', 'ก'], ['j', 'ฐ'], ['g', 'ร'], ['o', 'ร'], ['k', 'ฃ']]\n",
      "[['v', 'ឆ'], ['j', 'ឥ'], ['e', 'ឰ'], ['e', 'ៗ'], ['q', 'ធ'], ['c', 'ឯ'], ['l', 'ឈ'], ['q', 'ព']]\n"
     ]
    }
   ],
   "source": [
    "#create matrix to make pair\n",
    "matrixte = random.sample([[t,e] for t in thletter for e in enletter], len(pairid))\n",
    "print(matrixte)\n",
    "\n",
    "matrixtg = random.sample([[t,g] for t in thletter for g in grletter], len(pairid))\n",
    "print(matrixtg)\n",
    "\n",
    "matrixet = random.sample([[e,t] for e in enletter for t in thletter], len(pairid))\n",
    "print(matrixet)\n",
    "\n",
    "matrixek = random.sample([[e,k] for e in enletter for k in khletter], len(pairid))\n",
    "print(matrixek)\n",
    "\n",
    "# manual construct order sheet\n",
    "def manual_letter_regist(letterorder, startid, pairmatrix):\n",
    "    l = 0\n",
    "    for i in range(startid,startid + len(pairid)):\n",
    "        \n",
    "        nameA = find_letter_position(pairmatrix[l][0])\n",
    "        dirA = \"letter/lett\" + nameA + \".png\"\n",
    "        letterorder.loc[i,'firstletter'], letterorder.loc[i+len(pairid),'secondletter'] = pairmatrix[l][0], pairmatrix[l][0]\n",
    "        letterorder.loc[i, 'firstdir'], letterorder.loc[i+len(pairid),'seconddir'] = dirA, dirA\n",
    "\n",
    "\n",
    "        nameB = find_letter_position(pairmatrix[l][1])\n",
    "        dirB = \"letter/lett\" + nameB + \".png\"\n",
    "        letterorder.loc[i,'secondletter'], letterorder.loc[i+len(pairid),'firstletter'] = pairmatrix[l][1], pairmatrix[l][1]\n",
    "        letterorder.loc[i, 'seconddir'], letterorder.loc[i+len(pairid),'firstdir'] = dirB, dirB\n",
    "\n",
    "        l = l+1"
   ]
  },
  {
   "cell_type": "code",
   "execution_count": 43,
   "metadata": {},
   "outputs": [],
   "source": [
    "#painful, separate language into 2 sheet, th and en\n",
    "manual_letter_regist(letterorderth,0,matrixte)\n",
    "manual_letter_regist(letterorderth,32,matrixtg)\n",
    "manual_letter_regist(letterorderen, 0, matrixet)\n",
    "manual_letter_regist(letterorderen,16, matrixek)"
   ]
  },
  {
   "cell_type": "code",
   "execution_count": 44,
   "metadata": {},
   "outputs": [
    {
     "name": "stdout",
     "output_type": "stream",
     "text": [
      "[['b', 'β'], ['c', 'ς'], ['c', 'θ'], ['o', 'θ'], ['a', 'Λ'], ['c', 'Ω'], ['o', 'Φ'], ['w', 'Ψ']]\n",
      "[['ฉ', 'គ'], ['ฅ', 'ត'], ['ท', 'ឭ'], ['พ', 'គ'], ['ป', 'ម'], ['ศ', 'ឮ'], ['ซ', 'ឮ'], ['พ', 'ឭ']]\n"
     ]
    }
   ],
   "source": [
    "# conditional letter pair\n",
    "matrixeg = [\n",
    "    ['a', 'Δ'], ['a', 'Λ'],\n",
    "    ['b', 'β'],\n",
    "    ['p', 'ρ'],\n",
    "    ['c', 'ς'], ['c', 'σ'], ['c', 'θ'], ['c', 'Θ'], ['c', 'Φ'], ['c', 'Ω'], ['c', 'δ'],\n",
    "    ['o', 'ς'], ['o', 'σ'], ['o', 'θ'], ['o', 'Θ'], ['o', 'Φ'], ['o', 'Ω'], ['o', 'δ'],\n",
    "    ['e', 'ε'], ['e', 'Σ'], ['e', 'Ξ'], ['e', 'ξ'],\n",
    "    ['g', 'φ'], ['g', 'λ'], ['y', 'φ'], ['y', 'λ'],\n",
    "    ['i', 'l'],\n",
    "    ['m', 'π'], ['m', 'Π'], ['m', 'η'], ['m', 'μ'],\n",
    "    ['n', 'π'], ['n', 'Π'], ['n', 'η'], ['n', 'μ'],\n",
    "    ['u', 'ψ'], ['u', 'Ψ'], ['u', 'ω'], ['w', 'ψ'], ['w', 'Ψ'], ['w', 'ω'], ['v', 'ψ'], ['v', 'Ψ'], ['v', 'ω'],\n",
    "    ['r', 'Γ'],\n",
    "    ['z', 'ζ']\n",
    "]\n",
    "matrixeg = random.sample(matrixeg,len(pairid))\n",
    "print(matrixeg)\n",
    "\n",
    "matrixtk = [\n",
    "    ['ก', 'ក'], ['ก', 'ភ'], ['ก', 'ឥ'],\n",
    "    ['ถ', 'ក'], ['ถ', 'ភ'], ['ถ', 'ឥ'],\n",
    "    ['ภ', 'ក'], ['ภ', 'ភ'], ['ภ', 'ឥ'],\n",
    "    ['ข', 'ឫ'], ['ข', 'ប'], ['ข', 'ម'],\n",
    "    ['ฃ', 'ឫ'], ['ฃ', 'ប'], ['ฃ', 'ម'],\n",
    "    ['บ', 'ឫ'], ['บ', 'ប'], ['บ', 'ម'],\n",
    "    ['ป', 'ឫ'], ['ป', 'ប'], ['ป', 'ម'],\n",
    "    ['ย', 'ឫ'], ['ย', 'ប'], ['ย', 'ម'],\n",
    "    ['ษ', 'ឫ'], ['ษ', 'ប'], ['ษ', 'ម'],\n",
    "    ['ก', 'ក'], ['ก', 'ភ'], ['ก', 'ឥ'],\n",
    "    ['ค', 'គ'], ['ค', 'ព'], ['ค', 'ឭ'], ['ค', 'ត'], ['ค', 'ឮ'],\n",
    "    ['ฅ', 'គ'], ['ฅ', 'ព'], ['ฅ', 'ឭ'], ['ฅ', 'ត'], ['ฅ', 'ឮ'],\n",
    "    ['ด', 'គ'], ['ด', 'ព'], ['ด', 'ឭ'], ['ด', 'ត'], ['ด', 'ឮ'],\n",
    "    ['ต', 'គ'], ['ต', 'ព'], ['ต', 'ឭ'], ['ต', 'ត'], ['ต', 'ឮ'],\n",
    "    ['ง', 'គ'], ['ง', 'ព'], ['ง', 'ឭ'], ['ง', 'ត'], ['ง', 'ឮ'],\n",
    "    ['จ', 'គ'], ['จ', 'ព'], ['จ', 'ឭ'], ['จ', 'ត'], ['จ', 'ឮ'],\n",
    "    ['ล', 'គ'], ['ล', 'ព'], ['ล', 'ឭ'], ['ล', 'ត'], ['ล', 'ឮ'],\n",
    "    ['ว', 'គ'], ['ว', 'ព'], ['ว', 'ឭ'], ['ว', 'ត'], ['ว', 'ឮ'],\n",
    "    ['ฉ', 'គ'], ['ฉ', 'ព'], ['ฉ', 'ឭ'], ['ฉ', 'ត'], ['ฉ', 'ឮ'],\n",
    "    ['ช', 'គ'], ['ช', 'ព'], ['ช', 'ឭ'], ['ช', 'ត'], ['ช', 'ឮ'],\n",
    "    ['ซ', 'គ'], ['ซ', 'ព'], ['ซ', 'ឭ'], ['ซ', 'ត'], ['ซ', 'ឮ'],\n",
    "    ['ฌ', 'គ'], ['ฌ', 'ព'], ['ฌ', 'ឭ'], ['ฌ', 'ត'], ['ฌ', 'ឮ'],\n",
    "    ['ญ', 'គ'], ['ญ', 'ព'], ['ญ', 'ឭ'], ['ญ', 'ត'], ['ญ', 'ឮ'],\n",
    "    ['ณ', 'គ'], ['ณ', 'ព'], ['ณ', 'ឭ'], ['ณ', 'ត'], ['ณ', 'ឮ'],\n",
    "    ['ฎ', 'គ'], ['ฎ', 'ព'], ['ฎ', 'ឭ'], ['ฎ', 'ត'], ['ฎ', 'ឮ'],\n",
    "    ['ฏ', 'គ'], ['ฏ', 'ព'], ['ฏ', 'ឭ'], ['ฏ', 'ត'], ['ฏ', 'ឮ'],\n",
    "    ['ฐ', 'គ'], ['ฐ', 'ព'], ['ฐ', 'ឭ'], ['ฐ', 'ត'], ['ฐ', 'ឮ'],\n",
    "    ['ฑ', 'គ'], ['ฑ', 'ព'], ['ฑ', 'ឭ'], ['ฑ', 'ត'], ['ฑ', 'ឮ'],\n",
    "    ['ท', 'គ'], ['ท', 'ព'], ['ท', 'ឭ'], ['ท', 'ត'], ['ท', 'ឮ'],\n",
    "    ['ฒ', 'គ'], ['ฒ', 'ព'], ['ฒ', 'ឭ'], ['ฒ', 'ត'], ['ฒ', 'ឮ'],\n",
    "    ['ธ', 'គ'], ['ธ', 'ព'], ['ธ', 'ឭ'], ['ธ', 'ត'], ['ธ', 'ឮ'],\n",
    "    ['ร', 'គ'], ['ร', 'ព'], ['ร', 'ឭ'], ['ร', 'ត'], ['ร', 'ឮ'],\n",
    "    ['น', 'គ'], ['น', 'ព'], ['น', 'ឭ'], ['น', 'ត'], ['น', 'ឮ'],\n",
    "    ['ม', 'គ'], ['ม', 'ព'], ['ม', 'ឭ'], ['ม', 'ត'], ['ม', 'ឮ'],\n",
    "    ['ผ', 'គ'], ['ผ', 'ព'], ['ผ', 'ឭ'], ['ผ', 'ត'], ['ผ', 'ឮ'],\n",
    "    ['ฝ', 'គ'], ['ฝ', 'ព'], ['ฝ', 'ឭ'], ['ฝ', 'ត'], ['ฝ', 'ឮ'],\n",
    "    ['พ', 'គ'], ['พ', 'ព'], ['พ', 'ឭ'], ['พ', 'ត'], ['พ', 'ឮ'],\n",
    "    ['ฟ', 'គ'], ['ฟ', 'ព'], ['ฟ', 'ឭ'], ['ฟ', 'ត'], ['ฟ', 'ឮ'],\n",
    "    ['ฬ', 'គ'], ['ฬ', 'ព'], ['ฬ', 'ឭ'], ['ฬ', 'ត'], ['ฬ', 'ឮ'],\n",
    "    ['ศ', 'គ'], ['ศ', 'ព'], ['ศ', 'ឭ'], ['ศ', 'ត'], ['ศ', 'ឮ'],\n",
    "    ['ส', 'គ'], ['ส', 'ព'], ['ส', 'ឭ'], ['ส', 'ត'], ['ส', 'ឮ'],\n",
    "    ['ห', 'គ'], ['ห', 'ព'], ['ห', 'ឭ'], ['ห', 'ត'], ['ห', 'ឮ'],\n",
    "    ['อ', 'គ'], ['อ', 'ព'], ['อ', 'ឭ'], ['อ', 'ต'], ['อ', 'ឮ']\n",
    "]\n",
    "\n",
    "matrixtk = random.sample(matrixtk, len(pairid))\n",
    "print(matrixtk)\n",
    "\n"
   ]
  },
  {
   "cell_type": "code",
   "execution_count": 45,
   "metadata": {},
   "outputs": [],
   "source": [
    "manual_letter_regist(letterorderth,16, matrixtk)\n",
    "manual_letter_regist(letterorderen,32, matrixeg)"
   ]
  },
  {
   "cell_type": "code",
   "execution_count": 46,
   "metadata": {},
   "outputs": [],
   "source": [
    "#horror,combine both language\n",
    "letterorder = pd.concat([letterorderth, letterorderen], ignore_index=True)\n"
   ]
  },
  {
   "cell_type": "code",
   "execution_count": 47,
   "metadata": {},
   "outputs": [],
   "source": [
    "def combineandrandom(df1, df2, filenamefull, filenamerun):\n",
    "    # repeat task, randomized accross the table\n",
    "    mult = pd.concat([df1, df2], ignore_index=True)\n",
    "    randomizedorder = mult.sample(frac=1)\n",
    "    randomizedorder.to_excel(filenamefull,index=None)\n",
    "\n",
    "    # remove the problematic letter to let psychopy run smoothly (as it cannot read thai and khmer letter)\n",
    "    truerun = randomizedorder.drop(['firstletter', 'secondletter'], axis = 1)\n",
    "    truerun.to_excel(filenamerun,index=None)\n"
   ]
  },
  {
   "cell_type": "code",
   "execution_count": 48,
   "metadata": {},
   "outputs": [],
   "source": [
    "combineandrandom(letterorder, letterorder, \"ref/letterorderfull.xlsx\", \"letterorder.xlsx\")\n",
    "combineandrandom(letterorderth, letterorderth, \"ref/letterorderth_full.xlsx\", \"letterorder_th.xlsx\")\n",
    "combineandrandom(letterorderen, letterorderen, \"ref/letterorderen_full.xlsx\", \"letterorder_en.xlsx\")"
   ]
  }
 ],
 "metadata": {
  "kernelspec": {
   "display_name": "Python 3",
   "language": "python",
   "name": "python3"
  },
  "language_info": {
   "codemirror_mode": {
    "name": "ipython",
    "version": 3
   },
   "file_extension": ".py",
   "mimetype": "text/x-python",
   "name": "python",
   "nbconvert_exporter": "python",
   "pygments_lexer": "ipython3",
   "version": "3.10.11"
  }
 },
 "nbformat": 4,
 "nbformat_minor": 2
}
