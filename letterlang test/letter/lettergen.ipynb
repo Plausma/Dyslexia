{
 "cells": [
  {
   "cell_type": "code",
   "execution_count": 11,
   "metadata": {},
   "outputs": [
    {
     "name": "stdout",
     "output_type": "stream",
     "text": [
      "Images successfully generated.\n"
     ]
    }
   ],
   "source": [
    "import pandas as pd\n",
    "from PIL import Image, ImageDraw, ImageFont\n",
    "import os\n",
    "\n",
    "# Define paths\n",
    "excel_path = \"lett_forgen.xlsx\"\n",
    "font_dir = \"\"\n",
    "imgsave_dir = \"\"\n",
    "\n",
    "# Load fonts\n",
    "en_gr_font = os.path.join(font_dir, \"NotoSans-Medium.ttf\")\n",
    "th_kh_font = os.path.join(font_dir, \"leelaashiphai.ttf\")\n",
    "\n",
    "\n",
    "# Load Excel file\n",
    "df = pd.read_excel(excel_path, header=None)\n",
    "\n",
    "# Define language classification\n",
    "def get_language(row):\n",
    "    if 1 <= row <= 20:\n",
    "        return \"en\", en_gr_font\n",
    "    elif 21 <= row <= 40:\n",
    "        return \"gr\", en_gr_font\n",
    "    elif 41 <= row <= 58:\n",
    "        return \"th\", th_kh_font\n",
    "    elif 59 <= row <= 76:\n",
    "        return \"kh\", th_kh_font\n",
    "    return None, None\n",
    "\n",
    "# Define column mapping\n",
    "def get_column(col):\n",
    "    return col + 1  # Excel columns are 1-based\n",
    "\n",
    "# Image creation function\n",
    "def create_word_image(word, font_path, save_path, image_name, font_size=350):\n",
    "    width, height = 500, 500\n",
    "    bg_color = \"#808080\"\n",
    "    img = Image.new(\"RGB\", (width, height), bg_color)\n",
    "    draw = ImageDraw.Draw(img)\n",
    "    font = ImageFont.truetype(font_path, font_size)\n",
    "    draw.text((width // 2, height // 2), word, fill=\"white\", anchor='mm', font=font)\n",
    "    img.save(os.path.join(save_path, image_name))\n",
    "\n",
    "# Process Excel data\n",
    "language_counts = {\"en\": 0, \"gr\": 0, \"th\": 0, \"kh\": 0}\n",
    "\n",
    "for row_idx, row in df.iterrows():\n",
    "    lang, font = get_language(row_idx + 1)\n",
    "    if not lang:\n",
    "        continue  # Skip rows outside the range\n",
    "    \n",
    "    language_counts[lang] += 1\n",
    "    row_num = f\"{language_counts[lang]:02}\"  # Count within language formatted as two digits\n",
    "    row_num = f\"{language_counts[lang]:02}\"  # Count within language\n",
    "    \n",
    "    for col_idx, word in enumerate(row):\n",
    "        if pd.isna(word):\n",
    "            continue  # Skip empty cells\n",
    "        \n",
    "        col_num = get_column(col_idx)\n",
    "        image_name = f\"lett{lang}{row_num}{col_num}.png\"\n",
    "        create_word_image(str(word), font, imgsave_dir, image_name)\n",
    "\n",
    "print(\"Images successfully generated.\")\n"
   ]
  }
 ],
 "metadata": {
  "kernelspec": {
   "display_name": "Python 3",
   "language": "python",
   "name": "python3"
  },
  "language_info": {
   "codemirror_mode": {
    "name": "ipython",
    "version": 3
   },
   "file_extension": ".py",
   "mimetype": "text/x-python",
   "name": "python",
   "nbconvert_exporter": "python",
   "pygments_lexer": "ipython3",
   "version": "3.10.11"
  }
 },
 "nbformat": 4,
 "nbformat_minor": 2
}
