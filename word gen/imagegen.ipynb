{
 "cells": [
  {
   "cell_type": "code",
   "execution_count": 1,
   "metadata": {},
   "outputs": [],
   "source": [
    "import pandas as pd\n",
    "from PIL import Image, ImageDraw, ImageFont\n",
    "import os\n",
    "\n",
    "def create_word_image(word, font_path, save_path, image_name, font_size):\n",
    "    width, height = 1000, 500\n",
    "    bg_color = \"#808080\"\n",
    "    \n",
    "    img = Image.new(\"RGB\", (width, height), bg_color)\n",
    "    draw = ImageDraw.Draw(img)\n",
    "    \n",
    "    font = ImageFont.truetype(font_path, font_size)\n",
    "    \n",
    "    x = width // 2\n",
    "    y = height // 2\n",
    "    draw.text((x, y), word, fill=\"white\", anchor='mm', font=font)\n",
    "    \n",
    "    img.save(f\"{save_path}{image_name}\")\n"
   ]
  },
  {
   "cell_type": "code",
   "execution_count": null,
   "metadata": {},
   "outputs": [],
   "source": [
    "\n",
    "# Define base directory\n",
    "imgsave_dir = '../text/'\n",
    "\n",
    "# Get font path for ClearSans\n",
    "clearsans_font = \"./ClearSans.ttf\"\n"
   ]
  },
  {
   "cell_type": "code",
   "execution_count": 3,
   "metadata": {},
   "outputs": [
    {
     "name": "stdout",
     "output_type": "stream",
     "text": [
      "Images successfully generated\n"
     ]
    }
   ],
   "source": [
    "# Load words from Excel file\n",
    "df = pd.read_excel('wordlist.xlsx', header=0)\n",
    "\n",
    "\n",
    "# Extract words\n",
    "correct_words = df[\"correct\"].dropna().tolist()\n",
    "typo_words = df[\"typo\"].dropna().tolist()\n",
    "greek_words = df[\"greek\"].dropna().tolist()\n",
    "scramble_words = df[\"scramble\"].dropna().tolist()\n",
    "\n",
    "# Generate images with ClearSans font\n",
    "for i, (correct, greek, scramble, typo) in enumerate(zip(correct_words, greek_words, scramble_words, typo_words), start=1):\n",
    "    correct_name = f\"en{i:03}1.png\"\n",
    "    typo_name = f\"en{i:03}4.png\"\n",
    "    greek_name = f\"en{i:03}2.png\"\n",
    "    scramble_name = f\"en{i:03}3.png\"\n",
    "    \n",
    "    create_word_image(correct, clearsans_font, imgsave_dir, correct_name, font_size=220)\n",
    "    create_word_image(typo, clearsans_font, imgsave_dir, typo_name, font_size=220)\n",
    "    create_word_image(greek, clearsans_font, imgsave_dir, greek_name, font_size=220)\n",
    "    create_word_image(scramble, clearsans_font, imgsave_dir, scramble_name, font_size=220)\n",
    "\n",
    "print(\"Images successfully generated\")\n"
   ]
  }
 ],
 "metadata": {
  "kernelspec": {
   "display_name": "Python 3",
   "language": "python",
   "name": "python3"
  },
  "language_info": {
   "codemirror_mode": {
    "name": "ipython",
    "version": 3
   },
   "file_extension": ".py",
   "mimetype": "text/x-python",
   "name": "python",
   "nbconvert_exporter": "python",
   "pygments_lexer": "ipython3",
   "version": "3.10.11"
  }
 },
 "nbformat": 4,
 "nbformat_minor": 2
}
